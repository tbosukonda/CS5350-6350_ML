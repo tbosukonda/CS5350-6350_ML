{
 "cells": [
  {
   "cell_type": "code",
   "execution_count": 1,
   "id": "155b3d46",
   "metadata": {},
   "outputs": [],
   "source": [
    "import pandas as pd\n",
    "import numpy as np"
   ]
  },
  {
   "cell_type": "code",
   "execution_count": 3,
   "id": "c0c54b3c",
   "metadata": {},
   "outputs": [],
   "source": [
    "train_df = pd.read_csv(r\"train.csv\", names = [\"Cement\", \"Slag\", \"Fly_ash\", \"Water\", \"SP\",\n",
    "                                                       \"Coarse_Aggr\", \"Fine_Aggr\", \"Output\"])"
   ]
  },
  {
   "cell_type": "code",
   "execution_count": 5,
   "id": "f3bf6e14",
   "metadata": {},
   "outputs": [],
   "source": [
    "#train_df.head()"
   ]
  },
  {
   "cell_type": "code",
   "execution_count": 157,
   "id": "425fa1f1",
   "metadata": {},
   "outputs": [],
   "source": [
    "class Gradient_Descent:\n",
    "    def __init__(self, learning_rate = 1):\n",
    "        self.lr = learning_rate\n",
    "        self.weights = np.zeros(7)\n",
    "        self.bias = 0\n",
    "        self.cost = []\n",
    "        self.steps = 0        \n",
    "        \n",
    "    def learn(self, X, y):\n",
    "        while(True):\n",
    "            y_pred = self._predict(X) #making prediction\n",
    "            error, d_weight, d_bias = self._modify_gradient(X, y, y_pred) #computing error, dJ/dW, and dJ,dB\n",
    "            converge = self._update_params(d_weight, d_bias) #updating the parameters\n",
    "            cost = self.calc_cost(error) #calculating the cost\n",
    "            self.steps = self.steps+1\n",
    "            self.cost.append(cost)\n",
    "            if converge == 1:\n",
    "                break         \n",
    "           \n",
    "            \n",
    "    def _predict(self, X):\n",
    "        res = self.bias + np.dot(X, self.weights)\n",
    "        return res\n",
    "    \n",
    "    def _modify_gradient(self, X, y, y_pred):\n",
    "        error = y_pred - y\n",
    "        d_weight = np.dot(X.T, error) #sum over all the examples (y_i - w^T.x_i)x_ij\n",
    "        d_bias = np.sum(error) #sum over all the examples (y_i - w^T.x_i)\n",
    "        \n",
    "        return error, d_weight, d_bias\n",
    "        \n",
    "    def _update_params(self, d_weight, d_bias):\n",
    "        converge = 0\n",
    "        new_weights = self.weights - (self.lr * d_weight) #w^t+1 = w^t - r.dJ/dW\n",
    "        new_bias = self.bias - (self.lr * d_bias) #r^t+1 = r^t - r.dJ/dB\n",
    "        \n",
    "        if np.sum(new_weights) - np.sum(self.weights) < (1/1000000):\n",
    "            converge = 1\n",
    "        else:\n",
    "            self.weights = new_weights\n",
    "            self.bias = new_bias\n",
    "            self.lr = self.lr/2\n",
    "        \n",
    "        return converge\n",
    "    \n",
    "    def predict(self, X):\n",
    "        y_pred = self._predict(X)\n",
    "        return y_pred\n",
    "    \n",
    "    def calc_cost(self, error):\n",
    "        c = 0.5 * np.sum(np.square(error))\n",
    "        return c       \n",
    "        "
   ]
  },
  {
   "cell_type": "code",
   "execution_count": 6,
   "id": "8323b73d",
   "metadata": {},
   "outputs": [],
   "source": [
    "test_df = pd.read_csv(r\"test.csv\", names = [\"Cement\", \"Slag\", \"Fly_ash\", \"Water\", \"SP\",\n",
    "                                                       \"Coarse_Aggr\", \"Fine_Aggr\", \"Output\"])"
   ]
  },
  {
   "cell_type": "code",
   "execution_count": 7,
   "id": "31c0ab01",
   "metadata": {},
   "outputs": [
    {
     "data": {
      "text/html": [
       "<div>\n",
       "<style scoped>\n",
       "    .dataframe tbody tr th:only-of-type {\n",
       "        vertical-align: middle;\n",
       "    }\n",
       "\n",
       "    .dataframe tbody tr th {\n",
       "        vertical-align: top;\n",
       "    }\n",
       "\n",
       "    .dataframe thead th {\n",
       "        text-align: right;\n",
       "    }\n",
       "</style>\n",
       "<table border=\"1\" class=\"dataframe\">\n",
       "  <thead>\n",
       "    <tr style=\"text-align: right;\">\n",
       "      <th></th>\n",
       "      <th>Cement</th>\n",
       "      <th>Slag</th>\n",
       "      <th>Fly_ash</th>\n",
       "      <th>Water</th>\n",
       "      <th>SP</th>\n",
       "      <th>Coarse_Aggr</th>\n",
       "      <th>Fine_Aggr</th>\n",
       "    </tr>\n",
       "  </thead>\n",
       "  <tbody>\n",
       "    <tr>\n",
       "      <th>0</th>\n",
       "      <td>-0.890447</td>\n",
       "      <td>-1.295950</td>\n",
       "      <td>1.188030</td>\n",
       "      <td>-1.450430</td>\n",
       "      <td>1.238500</td>\n",
       "      <td>1.876070</td>\n",
       "      <td>-0.818684</td>\n",
       "    </tr>\n",
       "    <tr>\n",
       "      <th>1</th>\n",
       "      <td>0.549165</td>\n",
       "      <td>0.066917</td>\n",
       "      <td>-0.517804</td>\n",
       "      <td>0.638098</td>\n",
       "      <td>0.164716</td>\n",
       "      <td>0.227616</td>\n",
       "      <td>-0.945600</td>\n",
       "    </tr>\n",
       "    <tr>\n",
       "      <th>2</th>\n",
       "      <td>0.941555</td>\n",
       "      <td>-1.292630</td>\n",
       "      <td>1.068030</td>\n",
       "      <td>1.950890</td>\n",
       "      <td>-0.085833</td>\n",
       "      <td>-1.180960</td>\n",
       "      <td>-0.385584</td>\n",
       "    </tr>\n",
       "    <tr>\n",
       "      <th>3</th>\n",
       "      <td>-0.966886</td>\n",
       "      <td>1.047520</td>\n",
       "      <td>0.376289</td>\n",
       "      <td>1.831540</td>\n",
       "      <td>0.880569</td>\n",
       "      <td>-0.988829</td>\n",
       "      <td>-0.898007</td>\n",
       "    </tr>\n",
       "    <tr>\n",
       "      <th>4</th>\n",
       "      <td>0.638344</td>\n",
       "      <td>0.233121</td>\n",
       "      <td>-0.364867</td>\n",
       "      <td>0.488917</td>\n",
       "      <td>0.164716</td>\n",
       "      <td>-0.011126</td>\n",
       "      <td>-0.961465</td>\n",
       "    </tr>\n",
       "  </tbody>\n",
       "</table>\n",
       "</div>"
      ],
      "text/plain": [
       "     Cement      Slag   Fly_ash     Water        SP  Coarse_Aggr  Fine_Aggr\n",
       "0 -0.890447 -1.295950  1.188030 -1.450430  1.238500     1.876070  -0.818684\n",
       "1  0.549165  0.066917 -0.517804  0.638098  0.164716     0.227616  -0.945600\n",
       "2  0.941555 -1.292630  1.068030  1.950890 -0.085833    -1.180960  -0.385584\n",
       "3 -0.966886  1.047520  0.376289  1.831540  0.880569    -0.988829  -0.898007\n",
       "4  0.638344  0.233121 -0.364867  0.488917  0.164716    -0.011126  -0.961465"
      ]
     },
     "execution_count": 7,
     "metadata": {},
     "output_type": "execute_result"
    }
   ],
   "source": [
    "x_train = train_df.iloc[:,:7]\n",
    "#x_train.head()"
   ]
  },
  {
   "cell_type": "code",
   "execution_count": 160,
   "id": "a84b071f",
   "metadata": {},
   "outputs": [
    {
     "data": {
      "text/plain": [
       "0   -0.005574\n",
       "1    0.568593\n",
       "2    0.798260\n",
       "3    0.568593\n",
       "4    0.855677\n",
       "Name: Output, dtype: float64"
      ]
     },
     "execution_count": 160,
     "metadata": {},
     "output_type": "execute_result"
    }
   ],
   "source": [
    "y_train = train_df[\"Output\"]\n",
    "#y_train.head()"
   ]
  },
  {
   "cell_type": "code",
   "execution_count": 169,
   "id": "0b3f3e2c",
   "metadata": {},
   "outputs": [],
   "source": [
    "gd_model = Gradient_Descent(learning_rate = 0.01)\n",
    "gd_model.learn(x_train, y_train)"
   ]
  },
  {
   "cell_type": "code",
   "execution_count": 170,
   "id": "3217e50f",
   "metadata": {},
   "outputs": [
    {
     "data": {
      "text/html": [
       "<div>\n",
       "<style scoped>\n",
       "    .dataframe tbody tr th:only-of-type {\n",
       "        vertical-align: middle;\n",
       "    }\n",
       "\n",
       "    .dataframe tbody tr th {\n",
       "        vertical-align: top;\n",
       "    }\n",
       "\n",
       "    .dataframe thead th {\n",
       "        text-align: right;\n",
       "    }\n",
       "</style>\n",
       "<table border=\"1\" class=\"dataframe\">\n",
       "  <thead>\n",
       "    <tr style=\"text-align: right;\">\n",
       "      <th></th>\n",
       "      <th>Cement</th>\n",
       "      <th>Slag</th>\n",
       "      <th>Fly_ash</th>\n",
       "      <th>Water</th>\n",
       "      <th>SP</th>\n",
       "      <th>Coarse_Aggr</th>\n",
       "      <th>Fine_Aggr</th>\n",
       "    </tr>\n",
       "  </thead>\n",
       "  <tbody>\n",
       "    <tr>\n",
       "      <th>0</th>\n",
       "      <td>1.581100</td>\n",
       "      <td>-1.295950</td>\n",
       "      <td>-1.753060</td>\n",
       "      <td>1.831540</td>\n",
       "      <td>-0.909064</td>\n",
       "      <td>0.852891</td>\n",
       "      <td>-0.771091</td>\n",
       "    </tr>\n",
       "    <tr>\n",
       "      <th>1</th>\n",
       "      <td>0.561905</td>\n",
       "      <td>0.183260</td>\n",
       "      <td>-0.400160</td>\n",
       "      <td>0.240283</td>\n",
       "      <td>0.164716</td>\n",
       "      <td>-1.420840</td>\n",
       "      <td>1.386480</td>\n",
       "    </tr>\n",
       "    <tr>\n",
       "      <th>2</th>\n",
       "      <td>-1.145250</td>\n",
       "      <td>0.831454</td>\n",
       "      <td>0.176294</td>\n",
       "      <td>-0.704529</td>\n",
       "      <td>1.238500</td>\n",
       "      <td>-0.147550</td>\n",
       "      <td>0.561526</td>\n",
       "    </tr>\n",
       "    <tr>\n",
       "      <th>3</th>\n",
       "      <td>-1.056070</td>\n",
       "      <td>0.183260</td>\n",
       "      <td>-0.400160</td>\n",
       "      <td>0.240283</td>\n",
       "      <td>0.164716</td>\n",
       "      <td>-0.272605</td>\n",
       "      <td>1.418210</td>\n",
       "    </tr>\n",
       "    <tr>\n",
       "      <th>4</th>\n",
       "      <td>1.147940</td>\n",
       "      <td>-1.295950</td>\n",
       "      <td>0.164530</td>\n",
       "      <td>-0.455895</td>\n",
       "      <td>0.164716</td>\n",
       "      <td>-0.204393</td>\n",
       "      <td>0.577390</td>\n",
       "    </tr>\n",
       "  </tbody>\n",
       "</table>\n",
       "</div>"
      ],
      "text/plain": [
       "     Cement      Slag   Fly_ash     Water        SP  Coarse_Aggr  Fine_Aggr\n",
       "0  1.581100 -1.295950 -1.753060  1.831540 -0.909064     0.852891  -0.771091\n",
       "1  0.561905  0.183260 -0.400160  0.240283  0.164716    -1.420840   1.386480\n",
       "2 -1.145250  0.831454  0.176294 -0.704529  1.238500    -0.147550   0.561526\n",
       "3 -1.056070  0.183260 -0.400160  0.240283  0.164716    -0.272605   1.418210\n",
       "4  1.147940 -1.295950  0.164530 -0.455895  0.164716    -0.204393   0.577390"
      ]
     },
     "execution_count": 170,
     "metadata": {},
     "output_type": "execute_result"
    }
   ],
   "source": [
    "x_test = test_df.iloc[:,:7]\n",
    "#x_test.head()"
   ]
  },
  {
   "cell_type": "code",
   "execution_count": 171,
   "id": "61419333",
   "metadata": {},
   "outputs": [
    {
     "data": {
      "text/plain": [
       "0   -0.120408\n",
       "1    0.970510\n",
       "2    0.654718\n",
       "3    0.568593\n",
       "4    0.626010\n",
       "Name: Output, dtype: float64"
      ]
     },
     "execution_count": 171,
     "metadata": {},
     "output_type": "execute_result"
    }
   ],
   "source": [
    "y_test = test_df[\"Output\"]\n",
    "#y_test.head()"
   ]
  },
  {
   "cell_type": "code",
   "execution_count": 172,
   "id": "a7aab028",
   "metadata": {},
   "outputs": [],
   "source": [
    "y_pred = gd_model.predict(x_test)"
   ]
  },
  {
   "cell_type": "code",
   "execution_count": 173,
   "id": "8c741bf5",
   "metadata": {},
   "outputs": [
    {
     "name": "stdout",
     "output_type": "stream",
     "text": [
      "0.9413956300023891\n"
     ]
    }
   ],
   "source": [
    "def acc(y_true, y_pred):\n",
    "    return np.sqrt(np.mean((y_pred - y_true)**2))\n",
    "\n",
    "print(acc(y_test, y_pred))"
   ]
  },
  {
   "cell_type": "code",
   "execution_count": 174,
   "id": "5d8f5195",
   "metadata": {},
   "outputs": [
    {
     "name": "stdout",
     "output_type": "stream",
     "text": [
      "learned weight vector :  [ 0.06732474 -0.08422998 -0.104493    0.20969673 -0.027287   -0.03336063\n",
      "  0.02500083]\n",
      "learned bias :  -0.002954586399999998\n",
      "learned learning rate :  0.005\n"
     ]
    }
   ],
   "source": [
    "print(\"learned weight vector : \", gd_model.weights)\n",
    "print(\"learned bias : \", gd_model.bias)\n",
    "print(\"learned learning rate : \", gd_model.lr)"
   ]
  },
  {
   "cell_type": "code",
   "execution_count": 175,
   "id": "0c0e0fb0",
   "metadata": {},
   "outputs": [],
   "source": [
    "cost = gd_model.cost\n",
    "steps = [i+1 for i in range(gd_model.steps)]"
   ]
  },
  {
   "cell_type": "code",
   "execution_count": 176,
   "id": "2dcb3146",
   "metadata": {},
   "outputs": [
    {
     "data": {
      "text/plain": [
       "[<matplotlib.lines.Line2D at 0x7fa50b68be80>]"
      ]
     },
     "execution_count": 176,
     "metadata": {},
     "output_type": "execute_result"
    },
    {
     "data": {
      "image/png": "[encoded data removed]",
      "text/plain": [
       "<Figure size 432x288 with 1 Axes>"
      ]
     },
     "metadata": {
      "needs_background": "light"
     },
     "output_type": "display_data"
    }
   ],
   "source": [
    "import matplotlib.pyplot as plt\n",
    "plt.plot(steps, cost)"
   ]
  },
  {
   "cell_type": "code",
   "execution_count": 153,
   "id": "062ddc40",
   "metadata": {},
   "outputs": [
    {
     "name": "stdout",
     "output_type": "stream",
     "text": [
      "cost vaue for tet data :  22.155643304689875\n"
     ]
    }
   ],
   "source": [
    "print(\"cost vaue for tet data : \", gd_model.calc_cost(y_pred - y_test))"
   ]
  },
  {
   "cell_type": "code",
   "execution_count": null,
   "id": "5571fc59",
   "metadata": {},
   "outputs": [],
   "source": []
  }
 ],
 "metadata": {
  "kernelspec": {
   "display_name": "Python 3 (ipykernel)",
   "language": "python",
   "name": "python3"
  },
  "language_info": {
   "codemirror_mode": {
    "name": "ipython",
    "version": 3
   },
   "file_extension": ".py",
   "mimetype": "text/x-python",
   "name": "python",
   "nbconvert_exporter": "python",
   "pygments_lexer": "ipython3",
   "version": "3.9.7"
  }
 },
 "nbformat": 4,
 "nbformat_minor": 5
}
