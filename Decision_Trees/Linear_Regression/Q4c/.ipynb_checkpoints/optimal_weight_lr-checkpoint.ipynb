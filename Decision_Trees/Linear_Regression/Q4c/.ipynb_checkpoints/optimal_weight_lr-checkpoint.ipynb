{
 "cells": [
  {
   "cell_type": "code",
   "execution_count": 2,
   "id": "64c26a16",
   "metadata": {},
   "outputs": [],
   "source": [
    "import pandas as pd\n",
    "import numpy as np"
   ]
  },
  {
   "cell_type": "code",
   "execution_count": 3,
   "id": "65d19823",
   "metadata": {},
   "outputs": [],
   "source": [
    "train_df = pd.read_csv(r\"concrete/train.csv\", names = [\"Cement\", \"Slag\", \"Fly_ash\", \"Water\", \"SP\",\n",
    "                                                       \"Coarse_Aggr\", \"Fine_Aggr\", \"Output\"])"
   ]
  },
  {
   "cell_type": "code",
   "execution_count": 4,
   "id": "4b3d9b0d",
   "metadata": {},
   "outputs": [
    {
     "data": {
      "text/html": [
       "<div>\n",
       "<style scoped>\n",
       "    .dataframe tbody tr th:only-of-type {\n",
       "        vertical-align: middle;\n",
       "    }\n",
       "\n",
       "    .dataframe tbody tr th {\n",
       "        vertical-align: top;\n",
       "    }\n",
       "\n",
       "    .dataframe thead th {\n",
       "        text-align: right;\n",
       "    }\n",
       "</style>\n",
       "<table border=\"1\" class=\"dataframe\">\n",
       "  <thead>\n",
       "    <tr style=\"text-align: right;\">\n",
       "      <th></th>\n",
       "      <th>Cement</th>\n",
       "      <th>Slag</th>\n",
       "      <th>Fly_ash</th>\n",
       "      <th>Water</th>\n",
       "      <th>SP</th>\n",
       "      <th>Coarse_Aggr</th>\n",
       "      <th>Fine_Aggr</th>\n",
       "      <th>Output</th>\n",
       "    </tr>\n",
       "  </thead>\n",
       "  <tbody>\n",
       "    <tr>\n",
       "      <th>0</th>\n",
       "      <td>-0.890447</td>\n",
       "      <td>-1.295950</td>\n",
       "      <td>1.188030</td>\n",
       "      <td>-1.450430</td>\n",
       "      <td>1.238500</td>\n",
       "      <td>1.876070</td>\n",
       "      <td>-0.818684</td>\n",
       "      <td>-0.005574</td>\n",
       "    </tr>\n",
       "    <tr>\n",
       "      <th>1</th>\n",
       "      <td>0.549165</td>\n",
       "      <td>0.066917</td>\n",
       "      <td>-0.517804</td>\n",
       "      <td>0.638098</td>\n",
       "      <td>0.164716</td>\n",
       "      <td>0.227616</td>\n",
       "      <td>-0.945600</td>\n",
       "      <td>0.568593</td>\n",
       "    </tr>\n",
       "    <tr>\n",
       "      <th>2</th>\n",
       "      <td>0.941555</td>\n",
       "      <td>-1.292630</td>\n",
       "      <td>1.068030</td>\n",
       "      <td>1.950890</td>\n",
       "      <td>-0.085833</td>\n",
       "      <td>-1.180960</td>\n",
       "      <td>-0.385584</td>\n",
       "      <td>0.798260</td>\n",
       "    </tr>\n",
       "    <tr>\n",
       "      <th>3</th>\n",
       "      <td>-0.966886</td>\n",
       "      <td>1.047520</td>\n",
       "      <td>0.376289</td>\n",
       "      <td>1.831540</td>\n",
       "      <td>0.880569</td>\n",
       "      <td>-0.988829</td>\n",
       "      <td>-0.898007</td>\n",
       "      <td>0.568593</td>\n",
       "    </tr>\n",
       "    <tr>\n",
       "      <th>4</th>\n",
       "      <td>0.638344</td>\n",
       "      <td>0.233121</td>\n",
       "      <td>-0.364867</td>\n",
       "      <td>0.488917</td>\n",
       "      <td>0.164716</td>\n",
       "      <td>-0.011126</td>\n",
       "      <td>-0.961465</td>\n",
       "      <td>0.855677</td>\n",
       "    </tr>\n",
       "  </tbody>\n",
       "</table>\n",
       "</div>"
      ],
      "text/plain": [
       "     Cement      Slag   Fly_ash     Water        SP  Coarse_Aggr  Fine_Aggr  \\\n",
       "0 -0.890447 -1.295950  1.188030 -1.450430  1.238500     1.876070  -0.818684   \n",
       "1  0.549165  0.066917 -0.517804  0.638098  0.164716     0.227616  -0.945600   \n",
       "2  0.941555 -1.292630  1.068030  1.950890 -0.085833    -1.180960  -0.385584   \n",
       "3 -0.966886  1.047520  0.376289  1.831540  0.880569    -0.988829  -0.898007   \n",
       "4  0.638344  0.233121 -0.364867  0.488917  0.164716    -0.011126  -0.961465   \n",
       "\n",
       "     Output  \n",
       "0 -0.005574  \n",
       "1  0.568593  \n",
       "2  0.798260  \n",
       "3  0.568593  \n",
       "4  0.855677  "
      ]
     },
     "execution_count": 4,
     "metadata": {},
     "output_type": "execute_result"
    }
   ],
   "source": [
    "#train_df.head()"
   ]
  },
  {
   "cell_type": "code",
   "execution_count": 12,
   "id": "e87ad9a9",
   "metadata": {},
   "outputs": [
    {
     "name": "stdout",
     "output_type": "stream",
     "text": [
      "<class 'pandas.core.frame.DataFrame'>\n",
      "RangeIndex: 53 entries, 0 to 52\n",
      "Data columns (total 8 columns):\n",
      " #   Column       Non-Null Count  Dtype  \n",
      "---  ------       --------------  -----  \n",
      " 0   Cement       53 non-null     float64\n",
      " 1   Slag         53 non-null     float64\n",
      " 2   Fly_ash      53 non-null     float64\n",
      " 3   Water        53 non-null     float64\n",
      " 4   SP           53 non-null     float64\n",
      " 5   Coarse_Aggr  53 non-null     float64\n",
      " 6   Fine_Aggr    53 non-null     float64\n",
      " 7   Output       53 non-null     float64\n",
      "dtypes: float64(8)\n",
      "memory usage: 3.4 KB\n"
     ]
    }
   ],
   "source": [
    "#train_df.info()"
   ]
  },
  {
   "cell_type": "code",
   "execution_count": 5,
   "id": "473ed9cb",
   "metadata": {},
   "outputs": [],
   "source": [
    "test_df = pd.read_csv(r\"concrete/test.csv\", names = [\"Cement\", \"Slag\", \"Fly_ash\", \"Water\", \"SP\",\n",
    "                                                       \"Coarse_Aggr\", \"Fine_Aggr\", \"Output\"])"
   ]
  },
  {
   "cell_type": "code",
   "execution_count": 6,
   "id": "08d0be41",
   "metadata": {},
   "outputs": [
    {
     "data": {
      "text/html": [
       "<div>\n",
       "<style scoped>\n",
       "    .dataframe tbody tr th:only-of-type {\n",
       "        vertical-align: middle;\n",
       "    }\n",
       "\n",
       "    .dataframe tbody tr th {\n",
       "        vertical-align: top;\n",
       "    }\n",
       "\n",
       "    .dataframe thead th {\n",
       "        text-align: right;\n",
       "    }\n",
       "</style>\n",
       "<table border=\"1\" class=\"dataframe\">\n",
       "  <thead>\n",
       "    <tr style=\"text-align: right;\">\n",
       "      <th></th>\n",
       "      <th>Cement</th>\n",
       "      <th>Slag</th>\n",
       "      <th>Fly_ash</th>\n",
       "      <th>Water</th>\n",
       "      <th>SP</th>\n",
       "      <th>Coarse_Aggr</th>\n",
       "      <th>Fine_Aggr</th>\n",
       "    </tr>\n",
       "  </thead>\n",
       "  <tbody>\n",
       "    <tr>\n",
       "      <th>0</th>\n",
       "      <td>-0.890447</td>\n",
       "      <td>-1.295950</td>\n",
       "      <td>1.188030</td>\n",
       "      <td>-1.450430</td>\n",
       "      <td>1.238500</td>\n",
       "      <td>1.876070</td>\n",
       "      <td>-0.818684</td>\n",
       "    </tr>\n",
       "    <tr>\n",
       "      <th>1</th>\n",
       "      <td>0.549165</td>\n",
       "      <td>0.066917</td>\n",
       "      <td>-0.517804</td>\n",
       "      <td>0.638098</td>\n",
       "      <td>0.164716</td>\n",
       "      <td>0.227616</td>\n",
       "      <td>-0.945600</td>\n",
       "    </tr>\n",
       "    <tr>\n",
       "      <th>2</th>\n",
       "      <td>0.941555</td>\n",
       "      <td>-1.292630</td>\n",
       "      <td>1.068030</td>\n",
       "      <td>1.950890</td>\n",
       "      <td>-0.085833</td>\n",
       "      <td>-1.180960</td>\n",
       "      <td>-0.385584</td>\n",
       "    </tr>\n",
       "    <tr>\n",
       "      <th>3</th>\n",
       "      <td>-0.966886</td>\n",
       "      <td>1.047520</td>\n",
       "      <td>0.376289</td>\n",
       "      <td>1.831540</td>\n",
       "      <td>0.880569</td>\n",
       "      <td>-0.988829</td>\n",
       "      <td>-0.898007</td>\n",
       "    </tr>\n",
       "    <tr>\n",
       "      <th>4</th>\n",
       "      <td>0.638344</td>\n",
       "      <td>0.233121</td>\n",
       "      <td>-0.364867</td>\n",
       "      <td>0.488917</td>\n",
       "      <td>0.164716</td>\n",
       "      <td>-0.011126</td>\n",
       "      <td>-0.961465</td>\n",
       "    </tr>\n",
       "  </tbody>\n",
       "</table>\n",
       "</div>"
      ],
      "text/plain": [
       "     Cement      Slag   Fly_ash     Water        SP  Coarse_Aggr  Fine_Aggr\n",
       "0 -0.890447 -1.295950  1.188030 -1.450430  1.238500     1.876070  -0.818684\n",
       "1  0.549165  0.066917 -0.517804  0.638098  0.164716     0.227616  -0.945600\n",
       "2  0.941555 -1.292630  1.068030  1.950890 -0.085833    -1.180960  -0.385584\n",
       "3 -0.966886  1.047520  0.376289  1.831540  0.880569    -0.988829  -0.898007\n",
       "4  0.638344  0.233121 -0.364867  0.488917  0.164716    -0.011126  -0.961465"
      ]
     },
     "execution_count": 6,
     "metadata": {},
     "output_type": "execute_result"
    }
   ],
   "source": [
    "x_train = train_df.iloc[:,:7]\n",
    "#x_train.head()"
   ]
  },
  {
   "cell_type": "code",
   "execution_count": 7,
   "id": "26800d48",
   "metadata": {},
   "outputs": [
    {
     "data": {
      "text/plain": [
       "0   -0.005574\n",
       "1    0.568593\n",
       "2    0.798260\n",
       "3    0.568593\n",
       "4    0.855677\n",
       "Name: Output, dtype: float64"
      ]
     },
     "execution_count": 7,
     "metadata": {},
     "output_type": "execute_result"
    }
   ],
   "source": [
    "y_train = train_df[\"Output\"]\n",
    "#y_train.head()"
   ]
  },
  {
   "cell_type": "code",
   "execution_count": 13,
   "id": "23607ccc",
   "metadata": {},
   "outputs": [],
   "source": [
    "#coverting the dataframe into an ndarray\n",
    "X = x_train.to_numpy()\n",
    "Y = y_train.to_numpy()"
   ]
  },
  {
   "cell_type": "code",
   "execution_count": 26,
   "id": "0e0f8921",
   "metadata": {},
   "outputs": [],
   "source": [
    "#X^T.X\n",
    "A = np.dot(X.transpose(),X)"
   ]
  },
  {
   "cell_type": "code",
   "execution_count": 27,
   "id": "c135b01a",
   "metadata": {},
   "outputs": [],
   "source": [
    "#X^T.Y\n",
    "B = np.dot(X.transpose(), Y)"
   ]
  },
  {
   "cell_type": "code",
   "execution_count": 28,
   "id": "d57183f8",
   "metadata": {},
   "outputs": [],
   "source": [
    "#(X^T.X)^-1\n",
    "A_inverse = np.linalg.inv(A)"
   ]
  },
  {
   "cell_type": "code",
   "execution_count": 29,
   "id": "f83021ba",
   "metadata": {},
   "outputs": [],
   "source": [
    "#((X^T.X)^-1).(X^T.Y)\n",
    "opt_w = np.dot(A_inverse, B)"
   ]
  },
  {
   "cell_type": "code",
   "execution_count": 30,
   "id": "37be20fb",
   "metadata": {},
   "outputs": [
    {
     "name": "stdout",
     "output_type": "stream",
     "text": [
      "[0.92154947 0.80829428 0.87397433 1.3142877  0.13392374 1.59904727\n",
      " 1.02029192]\n"
     ]
    }
   ],
   "source": [
    "print(\"The optial weight vector is : \", opt_w)"
   ]
  },
  {
   "cell_type": "code",
   "execution_count": null,
   "id": "f4a1ab41",
   "metadata": {},
   "outputs": [],
   "source": []
  }
 ],
 "metadata": {
  "kernelspec": {
   "display_name": "Python 3 (ipykernel)",
   "language": "python",
   "name": "python3"
  },
  "language_info": {
   "codemirror_mode": {
    "name": "ipython",
    "version": 3
   },
   "file_extension": ".py",
   "mimetype": "text/x-python",
   "name": "python",
   "nbconvert_exporter": "python",
   "pygments_lexer": "ipython3",
   "version": "3.9.7"
  }
 },
 "nbformat": 4,
 "nbformat_minor": 5
}
