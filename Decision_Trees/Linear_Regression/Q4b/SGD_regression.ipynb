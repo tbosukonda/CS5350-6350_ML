{
 "cells": [
  {
   "cell_type": "code",
   "execution_count": 1,
   "id": "9ce18de1",
   "metadata": {},
   "outputs": [],
   "source": [
    "import pandas as pd\n",
    "import numpy as np"
   ]
  },
  {
   "cell_type": "code",
   "execution_count": 283,
   "id": "3d8bf490",
   "metadata": {},
   "outputs": [],
   "source": [
    "class Stochastic_Gradient_Descent:\n",
    "    def __init__(self, learning_rate = 1):\n",
    "        self.lr = learning_rate\n",
    "        self.weights = np.zeros(7)\n",
    "        self.bias = 0\n",
    "        self.lr_curve = [self.lr]\n",
    "        self.steps = 0\n",
    "        self.cost = [1]\n",
    "        \n",
    "    def learn(self, X_train, y_train):\n",
    "        \n",
    "        while(True):\n",
    "            converge = 0\n",
    "            c_row = 1\n",
    "            n = X_train.shape[0]\n",
    "            old_cost = 1\n",
    "\n",
    "            while(c_row < n):\n",
    "                x = X_train.iloc[c_row, :]  \n",
    "                y = y_train.iloc[c_row]     \n",
    "\n",
    "                y_pred = self._predict(x) #making prediction\n",
    "                error, d_w, d_b = self._modify_gradient(x, y, y_pred) #computing error, dJ/dW, and dJ,dB   \n",
    "                cost = self.calc_cost(error) #finding the cost\n",
    "                #print(\"old cost:\", old_cost)\n",
    "                #print(\"new cost:\", cost)\n",
    "                diff_cost = cost-old_cost\n",
    "                #print(\"diff_cost\", diff_cost)\n",
    "                n_w, n_b, n_lr = self._update_params(d_w, d_b) #computing updates parameters\n",
    "                \n",
    "                if abs(diff_cost) < (1/1000): #converging once the cost difference between old and new value is less than 0.001\n",
    "                    converge = 1\n",
    "                    \n",
    "                if converge == 1:\n",
    "                    break\n",
    "                \n",
    "                #if the model doesn't converge, then updating the parameters\n",
    "                old_cost = cost\n",
    "                self.cost.append(cost)\n",
    "                self.weights = n_w\n",
    "                self.bias = n_b\n",
    "                self.lr = n_lr\n",
    "                self.lr_curve.append(self.lr)\n",
    "                c_row = c_row+1\n",
    "                self.steps = self.steps+1\n",
    "                \n",
    "            if converge == 1:\n",
    "                    break\n",
    "                \n",
    "            \n",
    "    def _predict(self, x):\n",
    "        res = self.bias + np.dot(x, self.weights) #y_pred = b+ w^T.x\n",
    "        return res\n",
    "    \n",
    "    def _modify_gradient(self, x, y, y_pred):\n",
    "        error = y - y_pred #error = actual- predicted\n",
    "        d_weight = np.dot(x.T, error) #sum over all the examples (y_i - w^T.x_i)x_ij\n",
    "        d_bias = error #sum over all the examples (y_i - w^T.x_i)\n",
    "        \n",
    "        return error, d_weight, d_bias\n",
    "        \n",
    "    def _update_params(self, d_weight, d_bias):\n",
    "        \n",
    "        new_weights = self.weights + (self.lr * d_weight) #w^t+1 = w^t - r.dJ/dW\n",
    "        new_bias = self.bias + (self.lr * d_bias) #r^t+1 = r^t - r.dJ/dB        \n",
    "        new_lr = self.lr/2        \n",
    "        return new_weights, new_bias, new_lr\n",
    "        \n",
    "    \n",
    "    def predict(self, X):\n",
    "        y_pred = self._predict(X)\n",
    "        return y_pred\n",
    "    \n",
    "    def calc_cost(self, error):\n",
    "        c = 0.5 * np.sum(np.square(error))\n",
    "        return c"
   ]
  },
  {
   "cell_type": "code",
   "execution_count": 284,
   "id": "f5afc127",
   "metadata": {},
   "outputs": [],
   "source": [
    "train_df = pd.read_csv(r\"train.csv\", names = [\"Cement\", \"Slag\", \"Fly_ash\", \"Water\", \"SP\",\n",
    "                                                       \"Coarse_Aggr\", \"Fine_Aggr\", \"Output\"])"
   ]
  },
  {
   "cell_type": "code",
   "execution_count": 285,
   "id": "dcd0e262",
   "metadata": {},
   "outputs": [
    {
     "data": {
      "text/html": [
       "<div>\n",
       "<style scoped>\n",
       "    .dataframe tbody tr th:only-of-type {\n",
       "        vertical-align: middle;\n",
       "    }\n",
       "\n",
       "    .dataframe tbody tr th {\n",
       "        vertical-align: top;\n",
       "    }\n",
       "\n",
       "    .dataframe thead th {\n",
       "        text-align: right;\n",
       "    }\n",
       "</style>\n",
       "<table border=\"1\" class=\"dataframe\">\n",
       "  <thead>\n",
       "    <tr style=\"text-align: right;\">\n",
       "      <th></th>\n",
       "      <th>Cement</th>\n",
       "      <th>Slag</th>\n",
       "      <th>Fly_ash</th>\n",
       "      <th>Water</th>\n",
       "      <th>SP</th>\n",
       "      <th>Coarse_Aggr</th>\n",
       "      <th>Fine_Aggr</th>\n",
       "      <th>Output</th>\n",
       "    </tr>\n",
       "  </thead>\n",
       "  <tbody>\n",
       "    <tr>\n",
       "      <th>0</th>\n",
       "      <td>-0.890447</td>\n",
       "      <td>-1.295950</td>\n",
       "      <td>1.188030</td>\n",
       "      <td>-1.450430</td>\n",
       "      <td>1.238500</td>\n",
       "      <td>1.876070</td>\n",
       "      <td>-0.818684</td>\n",
       "      <td>-0.005574</td>\n",
       "    </tr>\n",
       "    <tr>\n",
       "      <th>1</th>\n",
       "      <td>0.549165</td>\n",
       "      <td>0.066917</td>\n",
       "      <td>-0.517804</td>\n",
       "      <td>0.638098</td>\n",
       "      <td>0.164716</td>\n",
       "      <td>0.227616</td>\n",
       "      <td>-0.945600</td>\n",
       "      <td>0.568593</td>\n",
       "    </tr>\n",
       "    <tr>\n",
       "      <th>2</th>\n",
       "      <td>0.941555</td>\n",
       "      <td>-1.292630</td>\n",
       "      <td>1.068030</td>\n",
       "      <td>1.950890</td>\n",
       "      <td>-0.085833</td>\n",
       "      <td>-1.180960</td>\n",
       "      <td>-0.385584</td>\n",
       "      <td>0.798260</td>\n",
       "    </tr>\n",
       "    <tr>\n",
       "      <th>3</th>\n",
       "      <td>-0.966886</td>\n",
       "      <td>1.047520</td>\n",
       "      <td>0.376289</td>\n",
       "      <td>1.831540</td>\n",
       "      <td>0.880569</td>\n",
       "      <td>-0.988829</td>\n",
       "      <td>-0.898007</td>\n",
       "      <td>0.568593</td>\n",
       "    </tr>\n",
       "    <tr>\n",
       "      <th>4</th>\n",
       "      <td>0.638344</td>\n",
       "      <td>0.233121</td>\n",
       "      <td>-0.364867</td>\n",
       "      <td>0.488917</td>\n",
       "      <td>0.164716</td>\n",
       "      <td>-0.011126</td>\n",
       "      <td>-0.961465</td>\n",
       "      <td>0.855677</td>\n",
       "    </tr>\n",
       "  </tbody>\n",
       "</table>\n",
       "</div>"
      ],
      "text/plain": [
       "     Cement      Slag   Fly_ash     Water        SP  Coarse_Aggr  Fine_Aggr  \\\n",
       "0 -0.890447 -1.295950  1.188030 -1.450430  1.238500     1.876070  -0.818684   \n",
       "1  0.549165  0.066917 -0.517804  0.638098  0.164716     0.227616  -0.945600   \n",
       "2  0.941555 -1.292630  1.068030  1.950890 -0.085833    -1.180960  -0.385584   \n",
       "3 -0.966886  1.047520  0.376289  1.831540  0.880569    -0.988829  -0.898007   \n",
       "4  0.638344  0.233121 -0.364867  0.488917  0.164716    -0.011126  -0.961465   \n",
       "\n",
       "     Output  \n",
       "0 -0.005574  \n",
       "1  0.568593  \n",
       "2  0.798260  \n",
       "3  0.568593  \n",
       "4  0.855677  "
      ]
     },
     "execution_count": 285,
     "metadata": {},
     "output_type": "execute_result"
    }
   ],
   "source": [
    "#train_df.head()"
   ]
  },
  {
   "cell_type": "code",
   "execution_count": 286,
   "id": "7c25d232",
   "metadata": {},
   "outputs": [
    {
     "name": "stdout",
     "output_type": "stream",
     "text": [
      "Cement         0.549165\n",
      "Slag           0.066917\n",
      "Fly_ash       -0.517804\n",
      "Water          0.638098\n",
      "SP             0.164716\n",
      "Coarse_Aggr    0.227616\n",
      "Fine_Aggr     -0.945600\n",
      "Output         0.568593\n",
      "Name: 1, dtype: float64\n"
     ]
    }
   ],
   "source": [
    "x = train_df.iloc[1, :]\n",
    "#print(x)"
   ]
  },
  {
   "cell_type": "code",
   "execution_count": 287,
   "id": "4c0776fb",
   "metadata": {},
   "outputs": [
    {
     "data": {
      "text/html": [
       "<div>\n",
       "<style scoped>\n",
       "    .dataframe tbody tr th:only-of-type {\n",
       "        vertical-align: middle;\n",
       "    }\n",
       "\n",
       "    .dataframe tbody tr th {\n",
       "        vertical-align: top;\n",
       "    }\n",
       "\n",
       "    .dataframe thead th {\n",
       "        text-align: right;\n",
       "    }\n",
       "</style>\n",
       "<table border=\"1\" class=\"dataframe\">\n",
       "  <thead>\n",
       "    <tr style=\"text-align: right;\">\n",
       "      <th></th>\n",
       "      <th>Cement</th>\n",
       "      <th>Slag</th>\n",
       "      <th>Fly_ash</th>\n",
       "      <th>Water</th>\n",
       "      <th>SP</th>\n",
       "      <th>Coarse_Aggr</th>\n",
       "      <th>Fine_Aggr</th>\n",
       "    </tr>\n",
       "  </thead>\n",
       "  <tbody>\n",
       "    <tr>\n",
       "      <th>0</th>\n",
       "      <td>-0.890447</td>\n",
       "      <td>-1.295950</td>\n",
       "      <td>1.188030</td>\n",
       "      <td>-1.450430</td>\n",
       "      <td>1.238500</td>\n",
       "      <td>1.876070</td>\n",
       "      <td>-0.818684</td>\n",
       "    </tr>\n",
       "    <tr>\n",
       "      <th>1</th>\n",
       "      <td>0.549165</td>\n",
       "      <td>0.066917</td>\n",
       "      <td>-0.517804</td>\n",
       "      <td>0.638098</td>\n",
       "      <td>0.164716</td>\n",
       "      <td>0.227616</td>\n",
       "      <td>-0.945600</td>\n",
       "    </tr>\n",
       "    <tr>\n",
       "      <th>2</th>\n",
       "      <td>0.941555</td>\n",
       "      <td>-1.292630</td>\n",
       "      <td>1.068030</td>\n",
       "      <td>1.950890</td>\n",
       "      <td>-0.085833</td>\n",
       "      <td>-1.180960</td>\n",
       "      <td>-0.385584</td>\n",
       "    </tr>\n",
       "    <tr>\n",
       "      <th>3</th>\n",
       "      <td>-0.966886</td>\n",
       "      <td>1.047520</td>\n",
       "      <td>0.376289</td>\n",
       "      <td>1.831540</td>\n",
       "      <td>0.880569</td>\n",
       "      <td>-0.988829</td>\n",
       "      <td>-0.898007</td>\n",
       "    </tr>\n",
       "    <tr>\n",
       "      <th>4</th>\n",
       "      <td>0.638344</td>\n",
       "      <td>0.233121</td>\n",
       "      <td>-0.364867</td>\n",
       "      <td>0.488917</td>\n",
       "      <td>0.164716</td>\n",
       "      <td>-0.011126</td>\n",
       "      <td>-0.961465</td>\n",
       "    </tr>\n",
       "  </tbody>\n",
       "</table>\n",
       "</div>"
      ],
      "text/plain": [
       "     Cement      Slag   Fly_ash     Water        SP  Coarse_Aggr  Fine_Aggr\n",
       "0 -0.890447 -1.295950  1.188030 -1.450430  1.238500     1.876070  -0.818684\n",
       "1  0.549165  0.066917 -0.517804  0.638098  0.164716     0.227616  -0.945600\n",
       "2  0.941555 -1.292630  1.068030  1.950890 -0.085833    -1.180960  -0.385584\n",
       "3 -0.966886  1.047520  0.376289  1.831540  0.880569    -0.988829  -0.898007\n",
       "4  0.638344  0.233121 -0.364867  0.488917  0.164716    -0.011126  -0.961465"
      ]
     },
     "execution_count": 287,
     "metadata": {},
     "output_type": "execute_result"
    }
   ],
   "source": [
    "x_train = train_df.iloc[:,:7]\n",
    "#x_train.head()"
   ]
  },
  {
   "cell_type": "code",
   "execution_count": 288,
   "id": "555a9485",
   "metadata": {},
   "outputs": [
    {
     "data": {
      "text/plain": [
       "0   -0.005574\n",
       "1    0.568593\n",
       "2    0.798260\n",
       "3    0.568593\n",
       "4    0.855677\n",
       "Name: Output, dtype: float64"
      ]
     },
     "execution_count": 288,
     "metadata": {},
     "output_type": "execute_result"
    }
   ],
   "source": [
    "y_train = train_df[\"Output\"]\n",
    "#y_train.head()"
   ]
  },
  {
   "cell_type": "code",
   "execution_count": 289,
   "id": "46b2f745",
   "metadata": {},
   "outputs": [
    {
     "name": "stdout",
     "output_type": "stream",
     "text": [
      "old cost: 1\n",
      "new cost: 0.1616489998245\n",
      "diff_cost -0.8383510001755\n",
      "old cost: 0.1616489998245\n",
      "new cost: 0.22642310376820077\n",
      "diff_cost 0.06477410394370076\n",
      "old cost: 0.22642310376820077\n",
      "new cost: 0.0447699476447543\n",
      "diff_cost -0.18165315612344646\n",
      "old cost: 0.0447699476447543\n",
      "new cost: 0.1819754091418862\n",
      "diff_cost 0.1372054614971319\n",
      "old cost: 0.1819754091418862\n",
      "new cost: 0.03601834643589139\n",
      "diff_cost -0.14595706270599482\n",
      "old cost: 0.03601834643589139\n",
      "new cost: 0.25122180611648437\n",
      "diff_cost 0.21520345968059298\n",
      "old cost: 0.25122180611648437\n",
      "new cost: 0.3963601731508141\n",
      "diff_cost 0.14513836703432975\n",
      "old cost: 0.3963601731508141\n",
      "new cost: 0.28617405917659205\n",
      "diff_cost -0.11018611397422207\n",
      "old cost: 0.28617405917659205\n",
      "new cost: 2.025508396571745\n",
      "diff_cost 1.739334337395153\n",
      "old cost: 2.025508396571745\n",
      "new cost: 0.03790459321272012\n",
      "diff_cost -1.9876038033590249\n",
      "old cost: 0.03790459321272012\n",
      "new cost: 0.0006154128936012011\n",
      "diff_cost -0.03728918031911892\n",
      "old cost: 0.0006154128936012011\n",
      "new cost: 0.07669874226929616\n",
      "diff_cost 0.07608332937569495\n",
      "old cost: 0.07669874226929616\n",
      "new cost: 0.24032091520622395\n",
      "diff_cost 0.1636221729369278\n",
      "old cost: 0.24032091520622395\n",
      "new cost: 0.16135291714476324\n",
      "diff_cost -0.07896799806146071\n",
      "old cost: 0.16135291714476324\n",
      "new cost: 0.05619433576692954\n",
      "diff_cost -0.10515858137783371\n",
      "old cost: 0.05619433576692954\n",
      "new cost: 0.031189765595821886\n",
      "diff_cost -0.025004570171107653\n",
      "old cost: 0.031189765595821886\n",
      "new cost: 1.9628320606069667\n",
      "diff_cost 1.9316422950111447\n",
      "old cost: 1.9628320606069667\n",
      "new cost: 0.16936833778077381\n",
      "diff_cost -1.793463722826193\n",
      "old cost: 0.16936833778077381\n",
      "new cost: 0.006305230493776715\n",
      "diff_cost -0.1630631072869971\n",
      "old cost: 0.006305230493776715\n",
      "new cost: 1.821494267381511\n",
      "diff_cost 1.8151890368877344\n",
      "old cost: 1.821494267381511\n",
      "new cost: 0.17296235529940554\n",
      "diff_cost -1.6485319120821056\n",
      "old cost: 0.17296235529940554\n",
      "new cost: 0.20168791796374394\n",
      "diff_cost 0.0287255626643384\n",
      "old cost: 0.20168791796374394\n",
      "new cost: 2.2417080081106944\n",
      "diff_cost 2.0400200901469505\n",
      "old cost: 2.2417080081106944\n",
      "new cost: 0.04786168414557657\n",
      "diff_cost -2.1938463239651176\n",
      "old cost: 0.04786168414557657\n",
      "new cost: 0.08305941778366698\n",
      "diff_cost 0.0351977336380904\n",
      "old cost: 0.08305941778366698\n",
      "new cost: 0.12752057003649225\n",
      "diff_cost 0.04446115225282528\n",
      "old cost: 0.12752057003649225\n",
      "new cost: 0.08263661950052437\n",
      "diff_cost -0.04488395053596789\n",
      "old cost: 0.08263661950052437\n",
      "new cost: 0.38201245167361364\n",
      "diff_cost 0.2993758321730893\n",
      "old cost: 0.38201245167361364\n",
      "new cost: 0.21262579453767444\n",
      "diff_cost -0.1693866571359392\n",
      "old cost: 0.21262579453767444\n",
      "new cost: 0.3351069102646787\n",
      "diff_cost 0.12248111572700426\n",
      "old cost: 0.3351069102646787\n",
      "new cost: 0.15279751210773093\n",
      "diff_cost -0.18230939815694777\n",
      "old cost: 0.15279751210773093\n",
      "new cost: 0.46975376842047734\n",
      "diff_cost 0.3169562563127464\n",
      "old cost: 0.46975376842047734\n",
      "new cost: 0.09467593149644443\n",
      "diff_cost -0.3750778369240329\n",
      "old cost: 0.09467593149644443\n",
      "new cost: 0.03552894171793312\n",
      "diff_cost -0.059146989778511315\n",
      "old cost: 0.03552894171793312\n",
      "new cost: 0.34551010659939685\n",
      "diff_cost 0.3099811648814637\n",
      "old cost: 0.34551010659939685\n",
      "new cost: 0.3875546125925701\n",
      "diff_cost 0.042044505993173276\n",
      "old cost: 0.3875546125925701\n",
      "new cost: 0.308908094517661\n",
      "diff_cost -0.07864651807490913\n",
      "old cost: 0.308908094517661\n",
      "new cost: 0.20185527937494188\n",
      "diff_cost -0.10705281514271911\n",
      "old cost: 0.20185527937494188\n",
      "new cost: 0.044127568463541024\n",
      "diff_cost -0.15772771091140086\n",
      "old cost: 0.044127568463541024\n",
      "new cost: 0.16153849158070457\n",
      "diff_cost 0.11741092311716356\n",
      "old cost: 0.16153849158070457\n",
      "new cost: 2.311398544398353\n",
      "diff_cost 2.1498600528176484\n",
      "old cost: 2.311398544398353\n",
      "new cost: 0.26150761415704665\n",
      "diff_cost -2.0498909302413066\n",
      "old cost: 0.26150761415704665\n",
      "new cost: 0.020425300035934433\n",
      "diff_cost -0.24108231412111222\n",
      "old cost: 0.020425300035934433\n",
      "new cost: 0.03647194124340007\n",
      "diff_cost 0.01604664120746564\n",
      "old cost: 0.03647194124340007\n",
      "new cost: 0.04580182077406067\n",
      "diff_cost 0.009329879530660598\n",
      "old cost: 0.04580182077406067\n",
      "new cost: 0.059706685173663586\n",
      "diff_cost 0.013904864399602916\n",
      "old cost: 0.059706685173663586\n",
      "new cost: 0.3353084884386004\n",
      "diff_cost 0.27560180326493683\n",
      "old cost: 0.3353084884386004\n",
      "new cost: 0.01938961557849823\n",
      "diff_cost -0.3159188728601022\n",
      "old cost: 0.01938961557849823\n",
      "new cost: 1.435500328428492\n",
      "diff_cost 1.4161107128499937\n",
      "old cost: 1.435500328428492\n",
      "new cost: 2.0073193012641686\n",
      "diff_cost 0.5718189728356766\n",
      "old cost: 2.0073193012641686\n",
      "new cost: 0.04080093653578574\n",
      "diff_cost -1.9665183647283828\n",
      "old cost: 0.04080093653578574\n",
      "new cost: 0.0012829066971535605\n",
      "diff_cost -0.03951802983863218\n",
      "old cost: 1\n",
      "new cost: 0.04018754604717837\n",
      "diff_cost -0.9598124539528217\n",
      "old cost: 0.04018754604717837\n",
      "new cost: 0.040534181445924\n",
      "diff_cost 0.00034663539874563165\n"
     ]
    }
   ],
   "source": [
    "sgd_model = Stochastic_Gradient_Descent(learning_rate = 0.1)\n",
    "sgd_model.learn(x_train, y_train)\n"
   ]
  },
  {
   "cell_type": "code",
   "execution_count": 290,
   "id": "c3cdcd9a",
   "metadata": {},
   "outputs": [],
   "source": [
    "test_df = pd.read_csv(r\"test.csv\", names = [\"Cement\", \"Slag\", \"Fly_ash\", \"Water\", \"SP\",\n",
    "                                                       \"Coarse_Aggr\", \"Fine_Aggr\", \"Output\"])"
   ]
  },
  {
   "cell_type": "code",
   "execution_count": 291,
   "id": "911d7ae9",
   "metadata": {},
   "outputs": [
    {
     "data": {
      "text/html": [
       "<div>\n",
       "<style scoped>\n",
       "    .dataframe tbody tr th:only-of-type {\n",
       "        vertical-align: middle;\n",
       "    }\n",
       "\n",
       "    .dataframe tbody tr th {\n",
       "        vertical-align: top;\n",
       "    }\n",
       "\n",
       "    .dataframe thead th {\n",
       "        text-align: right;\n",
       "    }\n",
       "</style>\n",
       "<table border=\"1\" class=\"dataframe\">\n",
       "  <thead>\n",
       "    <tr style=\"text-align: right;\">\n",
       "      <th></th>\n",
       "      <th>Cement</th>\n",
       "      <th>Slag</th>\n",
       "      <th>Fly_ash</th>\n",
       "      <th>Water</th>\n",
       "      <th>SP</th>\n",
       "      <th>Coarse_Aggr</th>\n",
       "      <th>Fine_Aggr</th>\n",
       "    </tr>\n",
       "  </thead>\n",
       "  <tbody>\n",
       "    <tr>\n",
       "      <th>0</th>\n",
       "      <td>1.581100</td>\n",
       "      <td>-1.295950</td>\n",
       "      <td>-1.753060</td>\n",
       "      <td>1.831540</td>\n",
       "      <td>-0.909064</td>\n",
       "      <td>0.852891</td>\n",
       "      <td>-0.771091</td>\n",
       "    </tr>\n",
       "    <tr>\n",
       "      <th>1</th>\n",
       "      <td>0.561905</td>\n",
       "      <td>0.183260</td>\n",
       "      <td>-0.400160</td>\n",
       "      <td>0.240283</td>\n",
       "      <td>0.164716</td>\n",
       "      <td>-1.420840</td>\n",
       "      <td>1.386480</td>\n",
       "    </tr>\n",
       "    <tr>\n",
       "      <th>2</th>\n",
       "      <td>-1.145250</td>\n",
       "      <td>0.831454</td>\n",
       "      <td>0.176294</td>\n",
       "      <td>-0.704529</td>\n",
       "      <td>1.238500</td>\n",
       "      <td>-0.147550</td>\n",
       "      <td>0.561526</td>\n",
       "    </tr>\n",
       "    <tr>\n",
       "      <th>3</th>\n",
       "      <td>-1.056070</td>\n",
       "      <td>0.183260</td>\n",
       "      <td>-0.400160</td>\n",
       "      <td>0.240283</td>\n",
       "      <td>0.164716</td>\n",
       "      <td>-0.272605</td>\n",
       "      <td>1.418210</td>\n",
       "    </tr>\n",
       "    <tr>\n",
       "      <th>4</th>\n",
       "      <td>1.147940</td>\n",
       "      <td>-1.295950</td>\n",
       "      <td>0.164530</td>\n",
       "      <td>-0.455895</td>\n",
       "      <td>0.164716</td>\n",
       "      <td>-0.204393</td>\n",
       "      <td>0.577390</td>\n",
       "    </tr>\n",
       "  </tbody>\n",
       "</table>\n",
       "</div>"
      ],
      "text/plain": [
       "     Cement      Slag   Fly_ash     Water        SP  Coarse_Aggr  Fine_Aggr\n",
       "0  1.581100 -1.295950 -1.753060  1.831540 -0.909064     0.852891  -0.771091\n",
       "1  0.561905  0.183260 -0.400160  0.240283  0.164716    -1.420840   1.386480\n",
       "2 -1.145250  0.831454  0.176294 -0.704529  1.238500    -0.147550   0.561526\n",
       "3 -1.056070  0.183260 -0.400160  0.240283  0.164716    -0.272605   1.418210\n",
       "4  1.147940 -1.295950  0.164530 -0.455895  0.164716    -0.204393   0.577390"
      ]
     },
     "execution_count": 291,
     "metadata": {},
     "output_type": "execute_result"
    }
   ],
   "source": [
    "x_test = test_df.iloc[:,:7]\n",
    "#x_test.head()"
   ]
  },
  {
   "cell_type": "code",
   "execution_count": 292,
   "id": "656a9b68",
   "metadata": {},
   "outputs": [
    {
     "data": {
      "text/plain": [
       "0   -0.120408\n",
       "1    0.970510\n",
       "2    0.654718\n",
       "3    0.568593\n",
       "4    0.626010\n",
       "Name: Output, dtype: float64"
      ]
     },
     "execution_count": 292,
     "metadata": {},
     "output_type": "execute_result"
    }
   ],
   "source": [
    "y_test = test_df[\"Output\"]\n",
    "#y_test.head()"
   ]
  },
  {
   "cell_type": "code",
   "execution_count": 293,
   "id": "7959dba9",
   "metadata": {},
   "outputs": [],
   "source": [
    "y_pred = sgd_model.predict(x_test)"
   ]
  },
  {
   "cell_type": "code",
   "execution_count": 294,
   "id": "6f776284",
   "metadata": {},
   "outputs": [
    {
     "name": "stdout",
     "output_type": "stream",
     "text": [
      "1.0372956467436225\n"
     ]
    }
   ],
   "source": [
    "def rmse(y_true, y_pred):\n",
    "    return np.sqrt(np.mean((y_pred - y_true)**2))\n",
    "\n",
    "print(rmse(y_test, y_pred))"
   ]
  },
  {
   "cell_type": "code",
   "execution_count": 295,
   "id": "cc488466",
   "metadata": {},
   "outputs": [
    {
     "name": "stdout",
     "output_type": "stream",
     "text": [
      "learned weight vector :  [ 0.06403679 -0.03180318  0.00423904  0.11939157  0.01166873 -0.03213171\n",
      " -0.08162881]\n"
     ]
    }
   ],
   "source": [
    "print(\"learned weight vector : \", sgd_model.weights)"
   ]
  },
  {
   "cell_type": "code",
   "execution_count": 296,
   "id": "b45b6347",
   "metadata": {},
   "outputs": [
    {
     "name": "stdout",
     "output_type": "stream",
     "text": [
      "learned bias value :  0.10626433379537958\n"
     ]
    }
   ],
   "source": [
    "print(\"learned bias value : \", sgd_model.bias)"
   ]
  },
  {
   "cell_type": "code",
   "execution_count": 297,
   "id": "af31d7e6",
   "metadata": {},
   "outputs": [
    {
     "name": "stdout",
     "output_type": "stream",
     "text": [
      "learning rate :  1.1102230246251566e-17\n"
     ]
    }
   ],
   "source": [
    "print(\"learning rate : \", sgd_model.lr)"
   ]
  },
  {
   "cell_type": "code",
   "execution_count": 298,
   "id": "dafd659d",
   "metadata": {},
   "outputs": [
    {
     "data": {
      "image/png": "[encoded data removed]",
      "text/plain": [
       "<Figure size 432x288 with 1 Axes>"
      ]
     },
     "metadata": {
      "needs_background": "light"
     },
     "output_type": "display_data"
    }
   ],
   "source": [
    "lr_curve = sgd_model.lr_curve\n",
    "steps = [i for i in range(sgd_model.steps+1)]\n",
    "\n",
    "import matplotlib.pyplot as plt\n",
    "\n",
    "plt.plot(steps, lr_curve)\n",
    "plt.xlabel(\"Iterations\")\n",
    "plt.ylabel(\"Learning rate\")\n",
    "plt.title(\"Learning rate curve\")\n",
    "plt.show()"
   ]
  },
  {
   "cell_type": "code",
   "execution_count": 299,
   "id": "3d04195f",
   "metadata": {},
   "outputs": [
    {
     "data": {
      "image/png": "[encoded data removed]",
      "text/plain": [
       "<Figure size 432x288 with 1 Axes>"
      ]
     },
     "metadata": {
      "needs_background": "light"
     },
     "output_type": "display_data"
    }
   ],
   "source": [
    "cost_curve = sgd_model.cost\n",
    "steps = [i for i in range(sgd_model.steps+1)]\n",
    "\n",
    "plt.plot(steps, cost_curve)\n",
    "plt.xlabel(\"Iterations\")\n",
    "plt.ylabel(\"Cost\")\n",
    "plt.title(\"cost curve\")\n",
    "plt.show()"
   ]
  },
  {
   "cell_type": "code",
   "execution_count": null,
   "id": "d81775f0",
   "metadata": {},
   "outputs": [],
   "source": []
  }
 ],
 "metadata": {
  "kernelspec": {
   "display_name": "Python 3 (ipykernel)",
   "language": "python",
   "name": "python3"
  },
  "language_info": {
   "codemirror_mode": {
    "name": "ipython",
    "version": 3
   },
   "file_extension": ".py",
   "mimetype": "text/x-python",
   "name": "python",
   "nbconvert_exporter": "python",
   "pygments_lexer": "ipython3",
   "version": "3.9.7"
  }
 },
 "nbformat": 4,
 "nbformat_minor": 5
}
