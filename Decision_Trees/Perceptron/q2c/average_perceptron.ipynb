{
 "cells": [
  {
   "cell_type": "code",
   "execution_count": 1,
   "id": "db849381",
   "metadata": {},
   "outputs": [],
   "source": [
    "import pandas as pd\n",
    "import numpy as np"
   ]
  },
  {
   "cell_type": "code",
   "execution_count": 2,
   "id": "b66bc4ee",
   "metadata": {},
   "outputs": [
    {
     "data": {
      "text/html": [
       "<div>\n",
       "<style scoped>\n",
       "    .dataframe tbody tr th:only-of-type {\n",
       "        vertical-align: middle;\n",
       "    }\n",
       "\n",
       "    .dataframe tbody tr th {\n",
       "        vertical-align: top;\n",
       "    }\n",
       "\n",
       "    .dataframe thead th {\n",
       "        text-align: right;\n",
       "    }\n",
       "</style>\n",
       "<table border=\"1\" class=\"dataframe\">\n",
       "  <thead>\n",
       "    <tr style=\"text-align: right;\">\n",
       "      <th></th>\n",
       "      <th>3.8481</th>\n",
       "      <th>10.1539</th>\n",
       "      <th>-3.8561</th>\n",
       "      <th>-4.2228</th>\n",
       "      <th>0</th>\n",
       "    </tr>\n",
       "  </thead>\n",
       "  <tbody>\n",
       "    <tr>\n",
       "      <th>0</th>\n",
       "      <td>4.004700</td>\n",
       "      <td>0.45937</td>\n",
       "      <td>1.36210</td>\n",
       "      <td>1.618100</td>\n",
       "      <td>0</td>\n",
       "    </tr>\n",
       "    <tr>\n",
       "      <th>1</th>\n",
       "      <td>-0.048008</td>\n",
       "      <td>-1.60370</td>\n",
       "      <td>8.47560</td>\n",
       "      <td>0.755580</td>\n",
       "      <td>0</td>\n",
       "    </tr>\n",
       "    <tr>\n",
       "      <th>2</th>\n",
       "      <td>-1.266700</td>\n",
       "      <td>2.81830</td>\n",
       "      <td>-2.42600</td>\n",
       "      <td>-1.886200</td>\n",
       "      <td>1</td>\n",
       "    </tr>\n",
       "    <tr>\n",
       "      <th>3</th>\n",
       "      <td>2.203400</td>\n",
       "      <td>5.99470</td>\n",
       "      <td>0.53009</td>\n",
       "      <td>0.849980</td>\n",
       "      <td>0</td>\n",
       "    </tr>\n",
       "    <tr>\n",
       "      <th>4</th>\n",
       "      <td>5.735300</td>\n",
       "      <td>5.28080</td>\n",
       "      <td>-2.25980</td>\n",
       "      <td>0.075416</td>\n",
       "      <td>0</td>\n",
       "    </tr>\n",
       "  </tbody>\n",
       "</table>\n",
       "</div>"
      ],
      "text/plain": [
       "     3.8481  10.1539  -3.8561   -4.2228  0\n",
       "0  4.004700  0.45937  1.36210  1.618100  0\n",
       "1 -0.048008 -1.60370  8.47560  0.755580  0\n",
       "2 -1.266700  2.81830 -2.42600 -1.886200  1\n",
       "3  2.203400  5.99470  0.53009  0.849980  0\n",
       "4  5.735300  5.28080 -2.25980  0.075416  0"
      ]
     },
     "execution_count": 2,
     "metadata": {},
     "output_type": "execute_result"
    }
   ],
   "source": [
    "train = pd.read_csv(\"train.csv\")\n",
    "train.head()"
   ]
  },
  {
   "cell_type": "code",
   "execution_count": 3,
   "id": "93e4eaa2",
   "metadata": {},
   "outputs": [
    {
     "data": {
      "text/html": [
       "<div>\n",
       "<style scoped>\n",
       "    .dataframe tbody tr th:only-of-type {\n",
       "        vertical-align: middle;\n",
       "    }\n",
       "\n",
       "    .dataframe tbody tr th {\n",
       "        vertical-align: top;\n",
       "    }\n",
       "\n",
       "    .dataframe thead th {\n",
       "        text-align: right;\n",
       "    }\n",
       "</style>\n",
       "<table border=\"1\" class=\"dataframe\">\n",
       "  <thead>\n",
       "    <tr style=\"text-align: right;\">\n",
       "      <th></th>\n",
       "      <th>3.8481</th>\n",
       "      <th>10.1539</th>\n",
       "      <th>-3.8561</th>\n",
       "      <th>-4.2228</th>\n",
       "    </tr>\n",
       "  </thead>\n",
       "  <tbody>\n",
       "    <tr>\n",
       "      <th>0</th>\n",
       "      <td>4.004700</td>\n",
       "      <td>0.45937</td>\n",
       "      <td>1.36210</td>\n",
       "      <td>1.618100</td>\n",
       "    </tr>\n",
       "    <tr>\n",
       "      <th>1</th>\n",
       "      <td>-0.048008</td>\n",
       "      <td>-1.60370</td>\n",
       "      <td>8.47560</td>\n",
       "      <td>0.755580</td>\n",
       "    </tr>\n",
       "    <tr>\n",
       "      <th>2</th>\n",
       "      <td>-1.266700</td>\n",
       "      <td>2.81830</td>\n",
       "      <td>-2.42600</td>\n",
       "      <td>-1.886200</td>\n",
       "    </tr>\n",
       "    <tr>\n",
       "      <th>3</th>\n",
       "      <td>2.203400</td>\n",
       "      <td>5.99470</td>\n",
       "      <td>0.53009</td>\n",
       "      <td>0.849980</td>\n",
       "    </tr>\n",
       "    <tr>\n",
       "      <th>4</th>\n",
       "      <td>5.735300</td>\n",
       "      <td>5.28080</td>\n",
       "      <td>-2.25980</td>\n",
       "      <td>0.075416</td>\n",
       "    </tr>\n",
       "  </tbody>\n",
       "</table>\n",
       "</div>"
      ],
      "text/plain": [
       "     3.8481  10.1539  -3.8561   -4.2228\n",
       "0  4.004700  0.45937  1.36210  1.618100\n",
       "1 -0.048008 -1.60370  8.47560  0.755580\n",
       "2 -1.266700  2.81830 -2.42600 -1.886200\n",
       "3  2.203400  5.99470  0.53009  0.849980\n",
       "4  5.735300  5.28080 -2.25980  0.075416"
      ]
     },
     "execution_count": 3,
     "metadata": {},
     "output_type": "execute_result"
    }
   ],
   "source": [
    "x_train = train.iloc[:,:4]\n",
    "x_train.head()"
   ]
  },
  {
   "cell_type": "code",
   "execution_count": 4,
   "id": "32448dc7",
   "metadata": {},
   "outputs": [
    {
     "data": {
      "text/plain": [
       "0   -1\n",
       "1   -1\n",
       "2    1\n",
       "3   -1\n",
       "4   -1\n",
       "Name: 0, dtype: int64"
      ]
     },
     "execution_count": 4,
     "metadata": {},
     "output_type": "execute_result"
    }
   ],
   "source": [
    "y_train = train.iloc[:,4]\n",
    "y_train = y_train.replace(0, -1)\n",
    "y_train.head()"
   ]
  },
  {
   "cell_type": "code",
   "execution_count": 5,
   "id": "ea5d7632",
   "metadata": {},
   "outputs": [
    {
     "data": {
      "text/html": [
       "<div>\n",
       "<style scoped>\n",
       "    .dataframe tbody tr th:only-of-type {\n",
       "        vertical-align: middle;\n",
       "    }\n",
       "\n",
       "    .dataframe tbody tr th {\n",
       "        vertical-align: top;\n",
       "    }\n",
       "\n",
       "    .dataframe thead th {\n",
       "        text-align: right;\n",
       "    }\n",
       "</style>\n",
       "<table border=\"1\" class=\"dataframe\">\n",
       "  <thead>\n",
       "    <tr style=\"text-align: right;\">\n",
       "      <th></th>\n",
       "      <th>3.8384</th>\n",
       "      <th>6.1851</th>\n",
       "      <th>-2.0439</th>\n",
       "      <th>-0.033204</th>\n",
       "      <th>0</th>\n",
       "    </tr>\n",
       "  </thead>\n",
       "  <tbody>\n",
       "    <tr>\n",
       "      <th>0</th>\n",
       "      <td>2.85210</td>\n",
       "      <td>9.1710</td>\n",
       "      <td>-3.64610</td>\n",
       "      <td>-1.2047</td>\n",
       "      <td>0</td>\n",
       "    </tr>\n",
       "    <tr>\n",
       "      <th>1</th>\n",
       "      <td>5.24180</td>\n",
       "      <td>10.5388</td>\n",
       "      <td>-4.11740</td>\n",
       "      <td>-4.2797</td>\n",
       "      <td>0</td>\n",
       "    </tr>\n",
       "    <tr>\n",
       "      <th>2</th>\n",
       "      <td>-2.26230</td>\n",
       "      <td>12.1177</td>\n",
       "      <td>0.28846</td>\n",
       "      <td>-7.7581</td>\n",
       "      <td>0</td>\n",
       "    </tr>\n",
       "    <tr>\n",
       "      <th>3</th>\n",
       "      <td>0.55298</td>\n",
       "      <td>-3.4619</td>\n",
       "      <td>1.70480</td>\n",
       "      <td>1.1008</td>\n",
       "      <td>1</td>\n",
       "    </tr>\n",
       "    <tr>\n",
       "      <th>4</th>\n",
       "      <td>4.15420</td>\n",
       "      <td>7.2756</td>\n",
       "      <td>-2.47660</td>\n",
       "      <td>-1.2099</td>\n",
       "      <td>0</td>\n",
       "    </tr>\n",
       "  </tbody>\n",
       "</table>\n",
       "</div>"
      ],
      "text/plain": [
       "    3.8384   6.1851  -2.0439  -0.033204  0\n",
       "0  2.85210   9.1710 -3.64610    -1.2047  0\n",
       "1  5.24180  10.5388 -4.11740    -4.2797  0\n",
       "2 -2.26230  12.1177  0.28846    -7.7581  0\n",
       "3  0.55298  -3.4619  1.70480     1.1008  1\n",
       "4  4.15420   7.2756 -2.47660    -1.2099  0"
      ]
     },
     "execution_count": 5,
     "metadata": {},
     "output_type": "execute_result"
    }
   ],
   "source": [
    "test = pd.read_csv(\"test.csv\")\n",
    "test.head()"
   ]
  },
  {
   "cell_type": "code",
   "execution_count": 6,
   "id": "131d82b1",
   "metadata": {},
   "outputs": [
    {
     "data": {
      "text/html": [
       "<div>\n",
       "<style scoped>\n",
       "    .dataframe tbody tr th:only-of-type {\n",
       "        vertical-align: middle;\n",
       "    }\n",
       "\n",
       "    .dataframe tbody tr th {\n",
       "        vertical-align: top;\n",
       "    }\n",
       "\n",
       "    .dataframe thead th {\n",
       "        text-align: right;\n",
       "    }\n",
       "</style>\n",
       "<table border=\"1\" class=\"dataframe\">\n",
       "  <thead>\n",
       "    <tr style=\"text-align: right;\">\n",
       "      <th></th>\n",
       "      <th>3.8384</th>\n",
       "      <th>6.1851</th>\n",
       "      <th>-2.0439</th>\n",
       "      <th>-0.033204</th>\n",
       "    </tr>\n",
       "  </thead>\n",
       "  <tbody>\n",
       "    <tr>\n",
       "      <th>0</th>\n",
       "      <td>2.85210</td>\n",
       "      <td>9.1710</td>\n",
       "      <td>-3.64610</td>\n",
       "      <td>-1.2047</td>\n",
       "    </tr>\n",
       "    <tr>\n",
       "      <th>1</th>\n",
       "      <td>5.24180</td>\n",
       "      <td>10.5388</td>\n",
       "      <td>-4.11740</td>\n",
       "      <td>-4.2797</td>\n",
       "    </tr>\n",
       "    <tr>\n",
       "      <th>2</th>\n",
       "      <td>-2.26230</td>\n",
       "      <td>12.1177</td>\n",
       "      <td>0.28846</td>\n",
       "      <td>-7.7581</td>\n",
       "    </tr>\n",
       "    <tr>\n",
       "      <th>3</th>\n",
       "      <td>0.55298</td>\n",
       "      <td>-3.4619</td>\n",
       "      <td>1.70480</td>\n",
       "      <td>1.1008</td>\n",
       "    </tr>\n",
       "    <tr>\n",
       "      <th>4</th>\n",
       "      <td>4.15420</td>\n",
       "      <td>7.2756</td>\n",
       "      <td>-2.47660</td>\n",
       "      <td>-1.2099</td>\n",
       "    </tr>\n",
       "  </tbody>\n",
       "</table>\n",
       "</div>"
      ],
      "text/plain": [
       "    3.8384   6.1851  -2.0439  -0.033204\n",
       "0  2.85210   9.1710 -3.64610    -1.2047\n",
       "1  5.24180  10.5388 -4.11740    -4.2797\n",
       "2 -2.26230  12.1177  0.28846    -7.7581\n",
       "3  0.55298  -3.4619  1.70480     1.1008\n",
       "4  4.15420   7.2756 -2.47660    -1.2099"
      ]
     },
     "execution_count": 6,
     "metadata": {},
     "output_type": "execute_result"
    }
   ],
   "source": [
    "x_test = test.iloc[:,:4]\n",
    "x_test.head()"
   ]
  },
  {
   "cell_type": "code",
   "execution_count": 7,
   "id": "90410696",
   "metadata": {},
   "outputs": [
    {
     "data": {
      "text/plain": [
       "0   -1\n",
       "1   -1\n",
       "2   -1\n",
       "3    1\n",
       "4   -1\n",
       "Name: 0, dtype: int64"
      ]
     },
     "execution_count": 7,
     "metadata": {},
     "output_type": "execute_result"
    }
   ],
   "source": [
    "y_test = test.iloc[:,4]\n",
    "y_test = y_test.replace(0, -1)\n",
    "y_test.head()"
   ]
  },
  {
   "cell_type": "code",
   "execution_count": 9,
   "id": "15d07ec6",
   "metadata": {},
   "outputs": [],
   "source": [
    "class Average_Perceptron:\n",
    "    def __init__(self):\n",
    "        self.weights = []\n",
    "        self.curr_weight = [0,0,0,0]\n",
    "        self.a = []\n",
    "    \n",
    "    def predict(self, x_test):\n",
    "        y_pred = []\n",
    "        for x in x_test.values:\n",
    "            if np.dot(self.a[-1], x) <= 0:\n",
    "                pred = -1\n",
    "            else:\n",
    "                pred = 1\n",
    "            y_pred.append(pred)\n",
    "        return np.array(y_pred)\n",
    "    \n",
    "    def fit(self, t, x_train, y, r, w):\n",
    "        a = x_train.shape[1]*[0]\n",
    "        for i in range(t):\n",
    "            for x_sample, y_sample in zip(x_train.values, y):\n",
    "                if y_sample * np.dot(w, x_sample) <= 0:\n",
    "                    w = w + r*y_sample*x_sample\n",
    "                a = a + w\n",
    "                self.weights.append(w)\n",
    "                self.curr_weight = a\n",
    "                self.a.append(a)\n",
    "            \n",
    "    def calc_error(self, y_pred, y_test):\n",
    "        cnt = 0\n",
    "        for pred, true in zip(y_pred, y_test):\n",
    "            if pred != true:\n",
    "                cnt = cnt+1\n",
    "        print(\"test misclassifications : \",cnt)\n",
    "        return cnt/len(y_pred)\n",
    "        "
   ]
  },
  {
   "cell_type": "code",
   "execution_count": 10,
   "id": "3ecefd27",
   "metadata": {},
   "outputs": [
    {
     "name": "stdout",
     "output_type": "stream",
     "text": [
      "[0, 0, 0, 0]\n"
     ]
    }
   ],
   "source": [
    "weights = [0]*x_train.shape[1]\n",
    "print(weights)\n",
    "ap_mod = Average_Perceptron()\n",
    "ap_mod.fit(10, x_train, y_train, 0.1, np.array(weights))"
   ]
  },
  {
   "cell_type": "code",
   "execution_count": 12,
   "id": "b4241024",
   "metadata": {},
   "outputs": [],
   "source": [
    "y_predictions = ap_mod.predict(x_test)"
   ]
  },
  {
   "cell_type": "code",
   "execution_count": 13,
   "id": "e4cce0ce",
   "metadata": {},
   "outputs": [],
   "source": [
    "#print(y_predictions)"
   ]
  },
  {
   "cell_type": "code",
   "execution_count": 14,
   "id": "350a6d46",
   "metadata": {},
   "outputs": [
    {
     "name": "stdout",
     "output_type": "stream",
     "text": [
      "test misclassifications :  30\n",
      "average test error :  0.06012024048096192\n"
     ]
    }
   ],
   "source": [
    "test_error = ap_mod.calc_error(y_predictions, y_test)\n",
    "print(\"average test error : \",test_error)"
   ]
  },
  {
   "cell_type": "code",
   "execution_count": 18,
   "id": "54757666",
   "metadata": {},
   "outputs": [
    {
     "name": "stdout",
     "output_type": "stream",
     "text": [
      "learned weight vector :  [-33233.14087725 -22888.716843   -20745.904208   -15283.01243042]\n"
     ]
    }
   ],
   "source": [
    "print(\"learned weight vector : \",ap_mod.a[-1])"
   ]
  },
  {
   "cell_type": "code",
   "execution_count": 19,
   "id": "7c443f5e",
   "metadata": {},
   "outputs": [],
   "source": [
    "#print(ap_mod.a)"
   ]
  },
  {
   "cell_type": "code",
   "execution_count": null,
   "id": "23b8d5bf",
   "metadata": {},
   "outputs": [],
   "source": []
  }
 ],
 "metadata": {
  "kernelspec": {
   "display_name": "Python 3 (ipykernel)",
   "language": "python",
   "name": "python3"
  },
  "language_info": {
   "codemirror_mode": {
    "name": "ipython",
    "version": 3
   },
   "file_extension": ".py",
   "mimetype": "text/x-python",
   "name": "python",
   "nbconvert_exporter": "python",
   "pygments_lexer": "ipython3",
   "version": "3.9.7"
  }
 },
 "nbformat": 4,
 "nbformat_minor": 5
}
