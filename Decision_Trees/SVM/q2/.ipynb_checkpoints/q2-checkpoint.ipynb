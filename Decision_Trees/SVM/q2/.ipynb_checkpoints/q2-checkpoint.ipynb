{
 "cells": [
  {
   "cell_type": "code",
   "execution_count": 1,
   "id": "dbf4ca7a",
   "metadata": {},
   "outputs": [],
   "source": [
    "#loading the requires libraries\n",
    "import pandas as pd\n",
    "import numpy as np"
   ]
  },
  {
   "cell_type": "code",
   "execution_count": 2,
   "id": "5d4f62bc",
   "metadata": {},
   "outputs": [],
   "source": [
    "train_data = pd.read_csv(\"train.csv\")\n",
    "#train_data.head()"
   ]
  },
  {
   "cell_type": "code",
   "execution_count": 3,
   "id": "58ada034",
   "metadata": {},
   "outputs": [],
   "source": [
    "#splitting into dependednt and independent feature \n",
    "x_train = train_data.iloc[:,:4]\n",
    "y_train = train_data.iloc[:,4]"
   ]
  },
  {
   "cell_type": "code",
   "execution_count": 4,
   "id": "07406982",
   "metadata": {},
   "outputs": [],
   "source": [
    "#converting [0,1] feature values into [-1,1] values\n",
    "y_train = y_train.replace(0,-1)"
   ]
  },
  {
   "cell_type": "code",
   "execution_count": 5,
   "id": "576ba5cb",
   "metadata": {},
   "outputs": [],
   "source": [
    "#loading test dataset\n",
    "test_data = pd.read_csv(\"test.csv\")\n",
    "#test_data.head()"
   ]
  },
  {
   "cell_type": "code",
   "execution_count": 6,
   "id": "a5c558dd",
   "metadata": {},
   "outputs": [],
   "source": [
    "#splitting into dependednt and independent feature \n",
    "x_test = test_data.iloc[:,:4]\n",
    "y_test = test_data.iloc[:,4]"
   ]
  },
  {
   "cell_type": "code",
   "execution_count": 7,
   "id": "f4d2e301",
   "metadata": {},
   "outputs": [],
   "source": [
    "#converting [0,1] feature values into [-1,1] values\n",
    "y_test = y_test.replace(0,-1)"
   ]
  },
  {
   "cell_type": "code",
   "execution_count": 8,
   "id": "5c17efd1",
   "metadata": {},
   "outputs": [],
   "source": [
    "#initial weights and bias\n",
    "initial_wt = np.array([0,0,0,0])\n",
    "initial_bias = 0\n",
    "initial_values = (initial_wt, initial_bias)"
   ]
  },
  {
   "cell_type": "code",
   "execution_count": 9,
   "id": "3dc238c6",
   "metadata": {},
   "outputs": [],
   "source": [
    "weight_overview = []\n",
    "bias_overview = []\n",
    "\n",
    "def learning_rate_1(gamma_zero, a, t):\n",
    "    learning_rate = gamma_zero/(1 + (gamma_zero/a) * t)\n",
    "    return learning_rate\n",
    "\n",
    "def learning_rate_2(gamma_zero, t):\n",
    "    learning_rate = gamma_zero/(1 + t)\n",
    "\n",
    "def stocasticSubgradientDescent(x_train, y_train, intial_values, C, gamma_zero, a, N, lr_model, T=1): #add the learning_rate model\n",
    "    weight, bias = intial_values\n",
    "    \n",
    "    for epoch in range(T):\n",
    "        learning_rate = learning_rate_1(gamma_zero, a, epoch)\n",
    "        \n",
    "        sub_gradient = subgradients(x_train, y_train, weight, bias, C, learning_rate, N)\n",
    "        \n",
    "        weight = weight - (learning_rate * sub_gradient[0]) #weight update\n",
    "        bias = bias - (learning_rate * sub_gradient[1]) #bias update\n",
    "        weight_overview.append(weight)\n",
    "        bias_overview.append(bias)\n",
    "        \n",
    "    return (weight, bias)\n",
    "\n",
    "def subgradients(x_train, y_train, weight, bias, C, lr_t, N):\n",
    "    subgradient_weight = 0\n",
    "    subgradient_bias = 0\n",
    "    \n",
    "    for xi, yi in zip(x_train.values, y_train.values):\n",
    "        \n",
    "        f_xi = np.dot(weight.T, xi) + bias\n",
    "        \n",
    "        \n",
    "        decision_value = yi * f_xi\n",
    "        \n",
    "        if decision_value<=1:\n",
    "            temp1 = lr_t * weight\n",
    "            temp2 = lr_t * C * N * yi * xi\n",
    "            subgradient_weight -= temp1 + temp2\n",
    "            subgradient_bias -= lr_t * C * N * 1 * yi\n",
    "            \n",
    "        else:\n",
    "            subgradient_weight += (1 - lr_t) * weight\n",
    "            subgradient_bias += 0\n",
    "            \n",
    "        return (subgradient_weight, subgradient_bias)"
   ]
  },
  {
   "cell_type": "code",
   "execution_count": 10,
   "id": "d66d05cc",
   "metadata": {},
   "outputs": [],
   "source": [
    "def predict(weight, x_test):\n",
    "    y_pred = []\n",
    "    for x in x_test.values:\n",
    "        if np.dot(weight.T, x)<=1:\n",
    "            pred = -1\n",
    "        else:\n",
    "            pred = 1\n",
    "        y_pred.append(pred)\n",
    "    return y_pred\n",
    "\n",
    "def calc_error(y_pred, y_test):\n",
    "    cnt = 0\n",
    "    for pred, true in zip(y_pred, y_test):\n",
    "        if pred != true:\n",
    "            cnt = cnt+1\n",
    "    return cnt/(len(y_test))"
   ]
  },
  {
   "cell_type": "code",
   "execution_count": 11,
   "id": "c41be2ac",
   "metadata": {},
   "outputs": [
    {
     "name": "stdout",
     "output_type": "stream",
     "text": [
      "871\n"
     ]
    }
   ],
   "source": [
    "#length of dataset\n",
    "print(len(y_train))"
   ]
  },
  {
   "cell_type": "markdown",
   "id": "065d9ecc",
   "metadata": {},
   "source": [
    "For gamma = gamma_zero/(1 + (gamma_zero/a)*t)\n",
    "\n",
    "\n",
    "For C = 100/873 "
   ]
  },
  {
   "cell_type": "code",
   "execution_count": 12,
   "id": "f7e21ec9",
   "metadata": {},
   "outputs": [],
   "source": [
    "weight, bias = stocasticSubgradientDescent(x_train, y_train, initial_values, (100/873), 0.01, 0.1, 871, \"learning_rate_1\", 100)"
   ]
  },
  {
   "cell_type": "code",
   "execution_count": 13,
   "id": "e901991d",
   "metadata": {},
   "outputs": [
    {
     "name": "stdout",
     "output_type": "stream",
     "text": [
      "learned weight :  [-0.18317053 -0.02101107 -0.06230094 -0.0740101 ]\n",
      "learned bias :  -0.052933027203633236\n"
     ]
    }
   ],
   "source": [
    "print(\"learned weight : \", weight)\n",
    "print(\"learned bias : \", bias)"
   ]
  },
  {
   "cell_type": "code",
   "execution_count": 63,
   "id": "c3efa522",
   "metadata": {},
   "outputs": [],
   "source": [
    "#print(weight_overview)"
   ]
  },
  {
   "cell_type": "code",
   "execution_count": 64,
   "id": "8317c477",
   "metadata": {},
   "outputs": [],
   "source": [
    "#print(bias_overview)"
   ]
  },
  {
   "cell_type": "code",
   "execution_count": 14,
   "id": "4c9cf311",
   "metadata": {},
   "outputs": [
    {
     "name": "stdout",
     "output_type": "stream",
     "text": [
      "train error :  0.42020665901262916\n"
     ]
    }
   ],
   "source": [
    "train_y_predictions = predict(weight, x_train)\n",
    "print(\"train error : \", calc_error(train_y_predictions, y_train))"
   ]
  },
  {
   "cell_type": "code",
   "execution_count": 15,
   "id": "b762a620",
   "metadata": {},
   "outputs": [
    {
     "name": "stdout",
     "output_type": "stream",
     "text": [
      "test error :  0.3967935871743487\n"
     ]
    }
   ],
   "source": [
    "y_predictions = predict(weight, x_test)\n",
    "print(\"test error : \", calc_error(y_predictions, y_test))"
   ]
  },
  {
   "cell_type": "markdown",
   "id": "05b4ed05",
   "metadata": {},
   "source": [
    "For C = 500/873"
   ]
  },
  {
   "cell_type": "code",
   "execution_count": 16,
   "id": "9c86fb1b",
   "metadata": {},
   "outputs": [],
   "source": [
    "weight, bias = stocasticSubgradientDescent(x_train, y_train, initial_values, (500/873), 0.01, 0.1, 871, \"learning_rate_1\", 100)"
   ]
  },
  {
   "cell_type": "code",
   "execution_count": 17,
   "id": "49aef6c1",
   "metadata": {},
   "outputs": [
    {
     "name": "stdout",
     "output_type": "stream",
     "text": [
      "learned weight :  [-0.18636676 -0.02137771 -0.06338806 -0.07530153]\n",
      "learned bias :  -0.05786712485681558\n"
     ]
    }
   ],
   "source": [
    "print(\"learned weight : \", weight)\n",
    "print(\"learned bias : \", bias)"
   ]
  },
  {
   "cell_type": "code",
   "execution_count": 18,
   "id": "672a508b",
   "metadata": {},
   "outputs": [
    {
     "name": "stdout",
     "output_type": "stream",
     "text": [
      "train error :  0.4190585533869116\n"
     ]
    }
   ],
   "source": [
    "train_y_predictions = predict(weight, x_train)\n",
    "print(\"train error : \", calc_error(train_y_predictions, y_train))"
   ]
  },
  {
   "cell_type": "code",
   "execution_count": 19,
   "id": "896dce0b",
   "metadata": {},
   "outputs": [
    {
     "name": "stdout",
     "output_type": "stream",
     "text": [
      "test error :  0.3967935871743487\n"
     ]
    }
   ],
   "source": [
    "y_predictions = predict(weight, x_test)\n",
    "print(\"test error : \", calc_error(y_predictions, y_test))"
   ]
  },
  {
   "cell_type": "markdown",
   "id": "1633bdac",
   "metadata": {},
   "source": [
    "For C = 700/873"
   ]
  },
  {
   "cell_type": "code",
   "execution_count": 20,
   "id": "75fab966",
   "metadata": {},
   "outputs": [],
   "source": [
    "weight, bias = stocasticSubgradientDescent(x_train, y_train, initial_values, (700/873), 0.01, 0.1, 871, \"learning_rate_1\", 100)"
   ]
  },
  {
   "cell_type": "code",
   "execution_count": 21,
   "id": "e5556c82",
   "metadata": {},
   "outputs": [
    {
     "name": "stdout",
     "output_type": "stream",
     "text": [
      "learned weight :  [-0.2213369  -0.02538905 -0.07528229 -0.08943123]\n",
      "learned bias :  -0.06983963344788088\n"
     ]
    }
   ],
   "source": [
    "print(\"learned weight : \", weight)\n",
    "print(\"learned bias : \", bias)"
   ]
  },
  {
   "cell_type": "code",
   "execution_count": 22,
   "id": "d9cf8c87",
   "metadata": {},
   "outputs": [
    {
     "name": "stdout",
     "output_type": "stream",
     "text": [
      "train error :  0.40757749712973596\n"
     ]
    }
   ],
   "source": [
    "train_y_predictions = predict(weight, x_train)\n",
    "print(\"train error : \", calc_error(train_y_predictions, y_train))"
   ]
  },
  {
   "cell_type": "code",
   "execution_count": 23,
   "id": "3737b9bd",
   "metadata": {},
   "outputs": [
    {
     "name": "stdout",
     "output_type": "stream",
     "text": [
      "test error :  0.3927855711422846\n"
     ]
    }
   ],
   "source": [
    "y_predictions = predict(weight, x_test)\n",
    "print(\"test error : \", calc_error(y_predictions, y_test))"
   ]
  },
  {
   "cell_type": "markdown",
   "id": "ddf66cfb",
   "metadata": {},
   "source": [
    "For gamma = gamma_zero/(1 + t)\n",
    "\n",
    "\n",
    "For C = 100/873 "
   ]
  },
  {
   "cell_type": "code",
   "execution_count": 24,
   "id": "144726ff",
   "metadata": {},
   "outputs": [],
   "source": [
    "weight, bias = stocasticSubgradientDescent(x_train, y_train, initial_values, (100/873), 0.01, 0.1, 871, \"learning_rate_2\", 100)"
   ]
  },
  {
   "cell_type": "code",
   "execution_count": 25,
   "id": "a9006d82",
   "metadata": {},
   "outputs": [
    {
     "name": "stdout",
     "output_type": "stream",
     "text": [
      "learned weight :  [-0.18317053 -0.02101107 -0.06230094 -0.0740101 ]\n",
      "learned bias :  -0.052933027203633236\n"
     ]
    }
   ],
   "source": [
    "print(\"learned weight : \", weight)\n",
    "print(\"learned bias : \", bias)"
   ]
  },
  {
   "cell_type": "code",
   "execution_count": 26,
   "id": "978dcf05",
   "metadata": {},
   "outputs": [
    {
     "name": "stdout",
     "output_type": "stream",
     "text": [
      "train error :  0.42020665901262916\n"
     ]
    }
   ],
   "source": [
    "train_y_predictions = predict(weight, x_train)\n",
    "print(\"train error : \", calc_error(train_y_predictions, y_train))"
   ]
  },
  {
   "cell_type": "code",
   "execution_count": 27,
   "id": "fdc9e213",
   "metadata": {},
   "outputs": [
    {
     "name": "stdout",
     "output_type": "stream",
     "text": [
      "test error :  0.3967935871743487\n"
     ]
    }
   ],
   "source": [
    "y_predictions = predict(weight, x_test)\n",
    "print(\"test error : \", calc_error(y_predictions, y_test))"
   ]
  },
  {
   "cell_type": "markdown",
   "id": "243ea4e9",
   "metadata": {},
   "source": [
    "For C = 500/873"
   ]
  },
  {
   "cell_type": "code",
   "execution_count": 28,
   "id": "880d70af",
   "metadata": {},
   "outputs": [],
   "source": [
    "weight, bias = stocasticSubgradientDescent(x_train, y_train, initial_values, (500/873), 0.01, 0.1, 871, \"learning_rate_2\", 100)"
   ]
  },
  {
   "cell_type": "code",
   "execution_count": 29,
   "id": "62381377",
   "metadata": {},
   "outputs": [
    {
     "name": "stdout",
     "output_type": "stream",
     "text": [
      "learned weight :  [-0.18636676 -0.02137771 -0.06338806 -0.07530153]\n",
      "learned bias :  -0.05786712485681558\n"
     ]
    }
   ],
   "source": [
    "print(\"learned weight : \", weight)\n",
    "print(\"learned bias : \", bias)"
   ]
  },
  {
   "cell_type": "code",
   "execution_count": 30,
   "id": "ad48dc1a",
   "metadata": {},
   "outputs": [
    {
     "name": "stdout",
     "output_type": "stream",
     "text": [
      "train error :  0.4190585533869116\n"
     ]
    }
   ],
   "source": [
    "train_y_predictions = predict(weight, x_train)\n",
    "print(\"train error : \", calc_error(train_y_predictions, y_train))"
   ]
  },
  {
   "cell_type": "code",
   "execution_count": 31,
   "id": "259900ec",
   "metadata": {},
   "outputs": [
    {
     "name": "stdout",
     "output_type": "stream",
     "text": [
      "test error :  0.3967935871743487\n"
     ]
    }
   ],
   "source": [
    "y_predictions = predict(weight, x_test)\n",
    "print(\"test error : \", calc_error(y_predictions, y_test))"
   ]
  },
  {
   "cell_type": "markdown",
   "id": "95519551",
   "metadata": {},
   "source": [
    "For C = 700/873"
   ]
  },
  {
   "cell_type": "code",
   "execution_count": 32,
   "id": "20ba007a",
   "metadata": {},
   "outputs": [],
   "source": [
    "weight, bias = stocasticSubgradientDescent(x_train, y_train, initial_values, (700/873), 0.01, 0.1, 871, \"learning_rate_2\", 100)"
   ]
  },
  {
   "cell_type": "code",
   "execution_count": 33,
   "id": "aec41a9d",
   "metadata": {},
   "outputs": [
    {
     "name": "stdout",
     "output_type": "stream",
     "text": [
      "learned weight :  [-0.2213369  -0.02538905 -0.07528229 -0.08943123]\n",
      "learned bias :  -0.06983963344788088\n"
     ]
    }
   ],
   "source": [
    "print(\"learned weight : \", weight)\n",
    "print(\"learned bias : \", bias)"
   ]
  },
  {
   "cell_type": "code",
   "execution_count": 34,
   "id": "20ef7846",
   "metadata": {},
   "outputs": [
    {
     "name": "stdout",
     "output_type": "stream",
     "text": [
      "train error :  0.40757749712973596\n"
     ]
    }
   ],
   "source": [
    "train_y_predictions = predict(weight, x_train)\n",
    "print(\"train error : \", calc_error(train_y_predictions, y_train))"
   ]
  },
  {
   "cell_type": "code",
   "execution_count": 35,
   "id": "8c7cf126",
   "metadata": {},
   "outputs": [
    {
     "name": "stdout",
     "output_type": "stream",
     "text": [
      "test error :  0.3927855711422846\n"
     ]
    }
   ],
   "source": [
    "y_predictions = predict(weight, x_test)\n",
    "print(\"test error : \", calc_error(y_predictions, y_test))"
   ]
  }
 ],
 "metadata": {
  "kernelspec": {
   "display_name": "Python 3 (ipykernel)",
   "language": "python",
   "name": "python3"
  },
  "language_info": {
   "codemirror_mode": {
    "name": "ipython",
    "version": 3
   },
   "file_extension": ".py",
   "mimetype": "text/x-python",
   "name": "python",
   "nbconvert_exporter": "python",
   "pygments_lexer": "ipython3",
   "version": "3.9.7"
  }
 },
 "nbformat": 4,
 "nbformat_minor": 5
}
