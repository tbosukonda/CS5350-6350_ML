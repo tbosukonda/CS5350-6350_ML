{
 "cells": [
  {
   "cell_type": "code",
   "execution_count": 2,
   "id": "5073036f",
   "metadata": {},
   "outputs": [],
   "source": [
    "import pandas as pd\n",
    "import numpy as np"
   ]
  },
  {
   "cell_type": "code",
   "execution_count": 3,
   "id": "4fa0f28d",
   "metadata": {},
   "outputs": [
    {
     "data": {
      "text/html": [
       "<div>\n",
       "<style scoped>\n",
       "    .dataframe tbody tr th:only-of-type {\n",
       "        vertical-align: middle;\n",
       "    }\n",
       "\n",
       "    .dataframe tbody tr th {\n",
       "        vertical-align: top;\n",
       "    }\n",
       "\n",
       "    .dataframe thead th {\n",
       "        text-align: right;\n",
       "    }\n",
       "</style>\n",
       "<table border=\"1\" class=\"dataframe\">\n",
       "  <thead>\n",
       "    <tr style=\"text-align: right;\">\n",
       "      <th></th>\n",
       "      <th>3.8481</th>\n",
       "      <th>10.1539</th>\n",
       "      <th>-3.8561</th>\n",
       "      <th>-4.2228</th>\n",
       "      <th>0</th>\n",
       "    </tr>\n",
       "  </thead>\n",
       "  <tbody>\n",
       "    <tr>\n",
       "      <th>0</th>\n",
       "      <td>4.004700</td>\n",
       "      <td>0.45937</td>\n",
       "      <td>1.36210</td>\n",
       "      <td>1.618100</td>\n",
       "      <td>0</td>\n",
       "    </tr>\n",
       "    <tr>\n",
       "      <th>1</th>\n",
       "      <td>-0.048008</td>\n",
       "      <td>-1.60370</td>\n",
       "      <td>8.47560</td>\n",
       "      <td>0.755580</td>\n",
       "      <td>0</td>\n",
       "    </tr>\n",
       "    <tr>\n",
       "      <th>2</th>\n",
       "      <td>-1.266700</td>\n",
       "      <td>2.81830</td>\n",
       "      <td>-2.42600</td>\n",
       "      <td>-1.886200</td>\n",
       "      <td>1</td>\n",
       "    </tr>\n",
       "    <tr>\n",
       "      <th>3</th>\n",
       "      <td>2.203400</td>\n",
       "      <td>5.99470</td>\n",
       "      <td>0.53009</td>\n",
       "      <td>0.849980</td>\n",
       "      <td>0</td>\n",
       "    </tr>\n",
       "    <tr>\n",
       "      <th>4</th>\n",
       "      <td>5.735300</td>\n",
       "      <td>5.28080</td>\n",
       "      <td>-2.25980</td>\n",
       "      <td>0.075416</td>\n",
       "      <td>0</td>\n",
       "    </tr>\n",
       "  </tbody>\n",
       "</table>\n",
       "</div>"
      ],
      "text/plain": [
       "     3.8481  10.1539  -3.8561   -4.2228  0\n",
       "0  4.004700  0.45937  1.36210  1.618100  0\n",
       "1 -0.048008 -1.60370  8.47560  0.755580  0\n",
       "2 -1.266700  2.81830 -2.42600 -1.886200  1\n",
       "3  2.203400  5.99470  0.53009  0.849980  0\n",
       "4  5.735300  5.28080 -2.25980  0.075416  0"
      ]
     },
     "execution_count": 3,
     "metadata": {},
     "output_type": "execute_result"
    }
   ],
   "source": [
    "train = pd.read_csv(\"train.csv\")\n",
    "train.head()"
   ]
  },
  {
   "cell_type": "code",
   "execution_count": 4,
   "id": "8c5230c1",
   "metadata": {},
   "outputs": [
    {
     "data": {
      "text/html": [
       "<div>\n",
       "<style scoped>\n",
       "    .dataframe tbody tr th:only-of-type {\n",
       "        vertical-align: middle;\n",
       "    }\n",
       "\n",
       "    .dataframe tbody tr th {\n",
       "        vertical-align: top;\n",
       "    }\n",
       "\n",
       "    .dataframe thead th {\n",
       "        text-align: right;\n",
       "    }\n",
       "</style>\n",
       "<table border=\"1\" class=\"dataframe\">\n",
       "  <thead>\n",
       "    <tr style=\"text-align: right;\">\n",
       "      <th></th>\n",
       "      <th>3.8481</th>\n",
       "      <th>10.1539</th>\n",
       "      <th>-3.8561</th>\n",
       "      <th>-4.2228</th>\n",
       "    </tr>\n",
       "  </thead>\n",
       "  <tbody>\n",
       "    <tr>\n",
       "      <th>0</th>\n",
       "      <td>4.004700</td>\n",
       "      <td>0.45937</td>\n",
       "      <td>1.36210</td>\n",
       "      <td>1.618100</td>\n",
       "    </tr>\n",
       "    <tr>\n",
       "      <th>1</th>\n",
       "      <td>-0.048008</td>\n",
       "      <td>-1.60370</td>\n",
       "      <td>8.47560</td>\n",
       "      <td>0.755580</td>\n",
       "    </tr>\n",
       "    <tr>\n",
       "      <th>2</th>\n",
       "      <td>-1.266700</td>\n",
       "      <td>2.81830</td>\n",
       "      <td>-2.42600</td>\n",
       "      <td>-1.886200</td>\n",
       "    </tr>\n",
       "    <tr>\n",
       "      <th>3</th>\n",
       "      <td>2.203400</td>\n",
       "      <td>5.99470</td>\n",
       "      <td>0.53009</td>\n",
       "      <td>0.849980</td>\n",
       "    </tr>\n",
       "    <tr>\n",
       "      <th>4</th>\n",
       "      <td>5.735300</td>\n",
       "      <td>5.28080</td>\n",
       "      <td>-2.25980</td>\n",
       "      <td>0.075416</td>\n",
       "    </tr>\n",
       "  </tbody>\n",
       "</table>\n",
       "</div>"
      ],
      "text/plain": [
       "     3.8481  10.1539  -3.8561   -4.2228\n",
       "0  4.004700  0.45937  1.36210  1.618100\n",
       "1 -0.048008 -1.60370  8.47560  0.755580\n",
       "2 -1.266700  2.81830 -2.42600 -1.886200\n",
       "3  2.203400  5.99470  0.53009  0.849980\n",
       "4  5.735300  5.28080 -2.25980  0.075416"
      ]
     },
     "execution_count": 4,
     "metadata": {},
     "output_type": "execute_result"
    }
   ],
   "source": [
    "x_train = train.iloc[:,:4]\n",
    "x_train.head()"
   ]
  },
  {
   "cell_type": "code",
   "execution_count": 5,
   "id": "ee65796d",
   "metadata": {},
   "outputs": [
    {
     "data": {
      "text/plain": [
       "0   -1\n",
       "1   -1\n",
       "2    1\n",
       "3   -1\n",
       "4   -1\n",
       "Name: 0, dtype: int64"
      ]
     },
     "execution_count": 5,
     "metadata": {},
     "output_type": "execute_result"
    }
   ],
   "source": [
    "y_train = train.iloc[:,4]\n",
    "y_train = y_train.replace(0, -1)\n",
    "y_train.head()"
   ]
  },
  {
   "cell_type": "code",
   "execution_count": 6,
   "id": "b475017e",
   "metadata": {},
   "outputs": [
    {
     "data": {
      "text/html": [
       "<div>\n",
       "<style scoped>\n",
       "    .dataframe tbody tr th:only-of-type {\n",
       "        vertical-align: middle;\n",
       "    }\n",
       "\n",
       "    .dataframe tbody tr th {\n",
       "        vertical-align: top;\n",
       "    }\n",
       "\n",
       "    .dataframe thead th {\n",
       "        text-align: right;\n",
       "    }\n",
       "</style>\n",
       "<table border=\"1\" class=\"dataframe\">\n",
       "  <thead>\n",
       "    <tr style=\"text-align: right;\">\n",
       "      <th></th>\n",
       "      <th>3.8384</th>\n",
       "      <th>6.1851</th>\n",
       "      <th>-2.0439</th>\n",
       "      <th>-0.033204</th>\n",
       "      <th>0</th>\n",
       "    </tr>\n",
       "  </thead>\n",
       "  <tbody>\n",
       "    <tr>\n",
       "      <th>0</th>\n",
       "      <td>2.85210</td>\n",
       "      <td>9.1710</td>\n",
       "      <td>-3.64610</td>\n",
       "      <td>-1.2047</td>\n",
       "      <td>0</td>\n",
       "    </tr>\n",
       "    <tr>\n",
       "      <th>1</th>\n",
       "      <td>5.24180</td>\n",
       "      <td>10.5388</td>\n",
       "      <td>-4.11740</td>\n",
       "      <td>-4.2797</td>\n",
       "      <td>0</td>\n",
       "    </tr>\n",
       "    <tr>\n",
       "      <th>2</th>\n",
       "      <td>-2.26230</td>\n",
       "      <td>12.1177</td>\n",
       "      <td>0.28846</td>\n",
       "      <td>-7.7581</td>\n",
       "      <td>0</td>\n",
       "    </tr>\n",
       "    <tr>\n",
       "      <th>3</th>\n",
       "      <td>0.55298</td>\n",
       "      <td>-3.4619</td>\n",
       "      <td>1.70480</td>\n",
       "      <td>1.1008</td>\n",
       "      <td>1</td>\n",
       "    </tr>\n",
       "    <tr>\n",
       "      <th>4</th>\n",
       "      <td>4.15420</td>\n",
       "      <td>7.2756</td>\n",
       "      <td>-2.47660</td>\n",
       "      <td>-1.2099</td>\n",
       "      <td>0</td>\n",
       "    </tr>\n",
       "  </tbody>\n",
       "</table>\n",
       "</div>"
      ],
      "text/plain": [
       "    3.8384   6.1851  -2.0439  -0.033204  0\n",
       "0  2.85210   9.1710 -3.64610    -1.2047  0\n",
       "1  5.24180  10.5388 -4.11740    -4.2797  0\n",
       "2 -2.26230  12.1177  0.28846    -7.7581  0\n",
       "3  0.55298  -3.4619  1.70480     1.1008  1\n",
       "4  4.15420   7.2756 -2.47660    -1.2099  0"
      ]
     },
     "execution_count": 6,
     "metadata": {},
     "output_type": "execute_result"
    }
   ],
   "source": [
    "test = pd.read_csv(\"test.csv\")\n",
    "test.head()"
   ]
  },
  {
   "cell_type": "code",
   "execution_count": 7,
   "id": "66731470",
   "metadata": {},
   "outputs": [],
   "source": [
    "x_test = test.iloc[:,:4]"
   ]
  },
  {
   "cell_type": "code",
   "execution_count": 8,
   "id": "d7804586",
   "metadata": {},
   "outputs": [
    {
     "data": {
      "text/plain": [
       "0   -1\n",
       "1   -1\n",
       "2   -1\n",
       "3    1\n",
       "4   -1\n",
       "Name: 0, dtype: int64"
      ]
     },
     "execution_count": 8,
     "metadata": {},
     "output_type": "execute_result"
    }
   ],
   "source": [
    "y_test = test.iloc[:,4]\n",
    "y_test = y_test.replace(0, -1)\n",
    "y_test.head()"
   ]
  },
  {
   "cell_type": "code",
   "execution_count": null,
   "id": "4eee6251",
   "metadata": {},
   "outputs": [],
   "source": []
  }
 ],
 "metadata": {
  "kernelspec": {
   "display_name": "Python 3 (ipykernel)",
   "language": "python",
   "name": "python3"
  },
  "language_info": {
   "codemirror_mode": {
    "name": "ipython",
    "version": 3
   },
   "file_extension": ".py",
   "mimetype": "text/x-python",
   "name": "python",
   "nbconvert_exporter": "python",
   "pygments_lexer": "ipython3",
   "version": "3.9.7"
  }
 },
 "nbformat": 4,
 "nbformat_minor": 5
}
