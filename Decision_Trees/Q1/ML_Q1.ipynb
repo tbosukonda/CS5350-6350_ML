{
 "cells": [
  {
   "cell_type": "markdown",
   "metadata": {},
   "source": [
    "Defining the ID3 algorithm that computes the information gain using entropy, gini index, and majority error"
   ]
  },
  {
   "cell_type": "code",
   "execution_count": 1,
   "metadata": {},
   "outputs": [],
   "source": [
    "#finding the entropy of the the attribute\n",
    "def entropy(df):\n",
    "    entropy = 0\n",
    "    counts = label_counts(df)\n",
    "    for lbl in counts:\n",
    "        prob_of_lbl = counts[lbl] / float(len(df))\n",
    "        entropy = entropy + (-1) * prob_of_lbl * np.log2(prob_of_lbl)\n",
    "    return entropy"
   ]
  },
  {
   "cell_type": "code",
   "execution_count": 2,
   "metadata": {},
   "outputs": [],
   "source": [
    "#finding the gini index of the the attribute\n",
    "def gini(df):\n",
    "    counts = label_counts(df)\n",
    "    impurity = 1\n",
    "    for lbl in counts:\n",
    "        prob_of_lbl = counts[lbl] / float(len(df))\n",
    "        impurity -= prob_of_lbl**2\n",
    "    return impurity"
   ]
  },
  {
   "cell_type": "code",
   "execution_count": 3,
   "metadata": {},
   "outputs": [],
   "source": [
    "#finding the majority error of the attribute\n",
    "def ME(df):\n",
    "    ME = 0\n",
    "    me_vals = []\n",
    "    counts = label_counts(df)\n",
    "    for lbl in counts:\n",
    "        prob_of_lbl = counts[lbl] / float(len(df))\n",
    "        me_vals.append(prob_of_lbl)\n",
    "    return min(me_vals)"
   ]
  },
  {
   "cell_type": "code",
   "execution_count": 4,
   "metadata": {},
   "outputs": [],
   "source": [
    "#finding information gain\n",
    "def info_gain(model, left, right, current_uncertainty):    \n",
    "    p = float(len(left)) / (len(left) + len(right))\n",
    "    return current_uncertainty - p * model(left) - (1 - p) * model(right)"
   ]
  },
  {
   "cell_type": "markdown",
   "metadata": {},
   "source": [
    "Constructing decision tree using above metrics"
   ]
  },
  {
   "cell_type": "code",
   "execution_count": 5,
   "metadata": {},
   "outputs": [],
   "source": [
    "import pandas as pd #for handling dataframes\n",
    "import numpy as np #for numerical operations"
   ]
  },
  {
   "cell_type": "code",
   "execution_count": 6,
   "metadata": {},
   "outputs": [],
   "source": [
    "#importing train dataset and setting the column names\n",
    "df_train = pd.read_csv(r'train.csv', \n",
    "                 names = [\"buying\",\"maint\",\"doors\",\"persons\",\"lug_boot\",\"safety\",\"label\"])\n",
    "#df_train.head()"
   ]
  },
  {
   "cell_type": "code",
   "execution_count": 7,
   "metadata": {},
   "outputs": [],
   "source": [
    "#checking the description of all the attributes\n",
    "#df_train.info()"
   ]
  },
  {
   "cell_type": "code",
   "execution_count": 8,
   "metadata": {},
   "outputs": [],
   "source": [
    "#defining the various columns of the dataset\n",
    "header = [\"buying\",\"maint\",\"doors\",\"persons\",\"lug_boot\",\"safety\",\"label\"]"
   ]
  },
  {
   "cell_type": "code",
   "execution_count": 9,
   "metadata": {},
   "outputs": [
    {
     "name": "stdout",
     "output_type": "stream",
     "text": [
      "Finding the unique values the attribute door can take :  {'5more', '4', '2', '3'}\n"
     ]
    }
   ],
   "source": [
    "#finding the unique values an attribute can take\n",
    "def unique_vals(df, col):\n",
    "    return set(df.iloc[:,col])\n",
    "\n",
    "#example\n",
    "#print(\"Finding the unique values the attribute door can take : \",unique_vals(df_train, 2))"
   ]
  },
  {
   "cell_type": "code",
   "execution_count": 11,
   "metadata": {},
   "outputs": [],
   "source": [
    "#finding the count of the unique values of the label attribute\n",
    "def label_counts(df):\n",
    "    counts = df.iloc[:,6].value_counts()\n",
    "    return counts.to_dict()\n",
    "\n",
    "#res = label_counts(df_train)\n",
    "#print(res)"
   ]
  },
  {
   "cell_type": "code",
   "execution_count": 12,
   "metadata": {},
   "outputs": [],
   "source": [
    "#defining a condition that is used to split the dataset\n",
    "class Condition:\n",
    "    def __init__(self, column, value):\n",
    "        self.column = column\n",
    "        self.value = value\n",
    "\n",
    "    def match(self, example):# Compare the feature value in an example to the conidition\n",
    "        val = example[self.column]\n",
    "        return val == self.value\n",
    "\n",
    "    def __repr__(self): #to display the condition\n",
    "        condition = \"==\"\n",
    "        return \"Is %s %s %s?\" % (header[self.column], condition, str(self.value))"
   ]
  },
  {
   "cell_type": "code",
   "execution_count": 13,
   "metadata": {},
   "outputs": [],
   "source": [
    "#split the dataset by checking each row and appending it to either a true set or false set\n",
    "def partition(df, question):\n",
    "    true_rows, false_rows = [], []\n",
    "    for i in range(len(df)):\n",
    "        row = df.iloc[i, :]\n",
    "        if question.match(row):\n",
    "            true_rows.append(row)\n",
    "        else:\n",
    "            false_rows.append(row)\n",
    "    \n",
    "    #converting the rows of list type into DataFrame type\n",
    "    true_rows = pd.DataFrame(true_rows, columns = [\"buying\",\"maint\",\"doors\",\"persons\",\"lug_boot\",\"safety\",\"label\"])\n",
    "    false_rows = pd.DataFrame(false_rows, columns = [\"buying\",\"maint\",\"doors\",\"persons\",\"lug_boot\",\"safety\",\"label\"])\n",
    "    return true_rows, false_rows    \n",
    "    "
   ]
  },
  {
   "cell_type": "code",
   "execution_count": 14,
   "metadata": {},
   "outputs": [],
   "source": [
    "#Finding the feature or value of the feature that best splits the dataset\n",
    "def find_best_split(model, rows):\n",
    "    #print(\"in find_best_split : \",type(rows))\n",
    "    best_gain = 0  # maintaining best information gain\n",
    "    best_question = None  # maintaining the condition of the corresponding information gain\n",
    "    current_uncertainty = model(rows)\n",
    "    n_features = len(rows.columns) - 1  # number of columns\n",
    "\n",
    "    for col in range(n_features):  # for each feature\n",
    "        values = unique_vals(rows, col)# unique values in the column          \n",
    "\n",
    "        for val in values:  # for each value\n",
    "\n",
    "            question = Condition(col, val)\n",
    "\n",
    "            # try splitting the dataset\n",
    "            true_rows, false_rows = partition(rows, question)\n",
    "            # Skip this split if it doesn't divide the\n",
    "            # dataset.\n",
    "            if len(true_rows) == 0 or len(false_rows) == 0:\n",
    "                continue\n",
    "\n",
    "            # Calculate the information gain from this split\n",
    "            gain = info_gain(model, true_rows, false_rows, current_uncertainty)\n",
    "\n",
    "            if gain >= best_gain:\n",
    "                best_gain, best_question = gain, question\n",
    "\n",
    "    return best_gain, best_question"
   ]
  },
  {
   "cell_type": "code",
   "execution_count": 16,
   "metadata": {},
   "outputs": [],
   "source": [
    "#defining the leaf node by setting it as the max value of all the values the attribute of a feature can take\n",
    "class Leaf:\n",
    "    def __init__(self, df):\n",
    "        self.predictions = self.max_leaf(df)\n",
    "        \n",
    "    def max_leaf(self, df):\n",
    "        res = label_counts(df)\n",
    "        max_value = max(res, key = res.get)\n",
    "        return {max_value:res[max_value]}"
   ]
  },
  {
   "cell_type": "code",
   "execution_count": 17,
   "metadata": {},
   "outputs": [],
   "source": [
    "#defining the decision node that splits the node\n",
    "class Decision_Node:\n",
    "    def __init__(self,\n",
    "                 question,\n",
    "                 true_branch,\n",
    "                 false_branch):\n",
    "        self.question = question\n",
    "        self.true_branch = true_branch\n",
    "        self.false_branch = false_branch"
   ]
  },
  {
   "cell_type": "code",
   "execution_count": 18,
   "metadata": {},
   "outputs": [],
   "source": [
    "#constructing the tree\n",
    "def build_tree(model, rows, max_depth, c_depth):\n",
    "    \n",
    "    #finding the attribute that best splits the datset and finding its information gain\n",
    "    gain, question = find_best_split(model, rows)\n",
    "\n",
    "    #leaf node case\n",
    "    if gain == 0 or c_depth>=max_depth:\n",
    "        return Leaf(rows)\n",
    "    \n",
    "    #partition the datset \n",
    "    true_rows, false_rows = partition(rows, question)\n",
    "\n",
    "    # Recursively build the true branch.\n",
    "    true_branch = build_tree(model, true_rows, max_depth, c_depth+1)\n",
    "\n",
    "    # Recursively build the false branch.\n",
    "    false_branch = build_tree(model, false_rows, max_depth, c_depth+1)\n",
    "\n",
    "    #returning the decision node\n",
    "    return Decision_Node(question, true_branch, false_branch)"
   ]
  },
  {
   "cell_type": "code",
   "execution_count": 19,
   "metadata": {},
   "outputs": [],
   "source": [
    "def print_tree(node, spacing=\"\"):\n",
    "\n",
    "    # Leaf node case\n",
    "    if isinstance(node, Leaf):\n",
    "        print (spacing + \"Predict\", node.predictions)\n",
    "        return\n",
    "\n",
    "    # Print the question at this node\n",
    "    print (spacing + str(node.question))\n",
    "\n",
    "    # calling recursively on left part until leaf node is obtained\n",
    "    print (spacing + '-> True:')\n",
    "    print_tree(node.true_branch, spacing + \"  \")\n",
    "\n",
    "    # calling recursively on left part until leaf node is obtained\n",
    "    print (spacing + '-> False:')\n",
    "    print_tree(node.false_branch, spacing + \"  \")"
   ]
  },
  {
   "cell_type": "code",
   "execution_count": 20,
   "metadata": {},
   "outputs": [],
   "source": [
    "#method to make prediction for test dataset\n",
    "def classify(row, node):\n",
    "\n",
    "    # leaf node case\n",
    "    if isinstance(node, Leaf):\n",
    "        return node.predictions\n",
    "\n",
    "    if node.question.match(row):\n",
    "        return classify(row, node.true_branch)\n",
    "    else:\n",
    "        return classify(row, node.false_branch)"
   ]
  },
  {
   "cell_type": "code",
   "execution_count": 21,
   "metadata": {},
   "outputs": [],
   "source": [
    "print(\"constructing decision tree using gini index with max depth as 6\")\n",
    "my_tree_1 = build_tree(gini, df_train, 6, 0) "
   ]
  },
  {
   "cell_type": "code",
   "execution_count": 22,
   "metadata": {},
   "outputs": [
    {
     "name": "stdout",
     "output_type": "stream",
     "text": [
      "Is persons == 2?\n",
      "--> True:\n",
      "  Predict {'unacc': 335}\n",
      "--> False:\n",
      "  Is safety == low?\n",
      "  --> True:\n",
      "    Predict {'unacc': 221}\n",
      "  --> False:\n",
      "    Is maint == vhigh?\n",
      "    --> True:\n",
      "      Is buying == med?\n",
      "      --> True:\n",
      "        Is safety == high?\n",
      "        --> True:\n",
      "          Predict {'acc': 16}\n",
      "        --> False:\n",
      "          Is lug_boot == big?\n",
      "          --> True:\n",
      "            Predict {'acc': 5}\n",
      "          --> False:\n",
      "            Predict {'unacc': 5}\n",
      "      --> False:\n",
      "        Is buying == low?\n",
      "        --> True:\n",
      "          Is lug_boot == small?\n",
      "          --> True:\n",
      "            Predict {'unacc': 6}\n",
      "          --> False:\n",
      "            Predict {'acc': 19}\n",
      "        --> False:\n",
      "          Predict {'unacc': 59}\n",
      "    --> False:\n",
      "      Is buying == low?\n",
      "      --> True:\n",
      "        Is safety == med?\n",
      "        --> True:\n",
      "          Is lug_boot == big?\n",
      "          --> True:\n",
      "            Predict {'good': 11}\n",
      "          --> False:\n",
      "            Predict {'acc': 25}\n",
      "        --> False:\n",
      "          Is lug_boot == small?\n",
      "          --> True:\n",
      "            Predict {'good': 9}\n",
      "          --> False:\n",
      "            Predict {'vgood': 19}\n",
      "      --> False:\n",
      "        Is lug_boot == small?\n",
      "        --> True:\n",
      "          Is safety == high?\n",
      "          --> True:\n",
      "            Predict {'acc': 23}\n",
      "          --> False:\n",
      "            Predict {'unacc': 29}\n",
      "        --> False:\n",
      "          Is buying == med?\n",
      "          --> True:\n",
      "            Predict {'acc': 29}\n",
      "          --> False:\n",
      "            Predict {'acc': 88}\n"
     ]
    }
   ],
   "source": [
    "#print_tree(my_tree_1)"
   ]
  },
  {
   "cell_type": "code",
   "execution_count": 23,
   "metadata": {},
   "outputs": [],
   "source": [
    "df_test = pd.read_csv(r'test.csv', \n",
    "                 names = [\"buying\",\"maint\",\"doors\",\"persons\",\"lug_boot\",\"safety\",\"label\"])"
   ]
  },
  {
   "cell_type": "code",
   "execution_count": 24,
   "metadata": {},
   "outputs": [],
   "source": [
    "#make predictions and find error on test data\n",
    "def calc_error(pred_tree):\n",
    "    cnt = 0\n",
    "    for i in range(len(df_test)):\n",
    "        actual = df_test.iloc[i,6] #label value\n",
    "        predicted = list(classify(df_test.iloc[i,:], pred_tree)) #predicted label value\n",
    "        if actual != predicted[0]:\n",
    "            cnt = cnt+1\n",
    "    error = (cnt/len(df_test))*100\n",
    "    return error\n",
    "    "
   ]
  },
  {
   "cell_type": "code",
   "execution_count": 25,
   "metadata": {},
   "outputs": [],
   "source": [
    "error1 = calc_error(my_tree_1) #error for gini index with depth 6"
   ]
  },
  {
   "cell_type": "code",
   "execution_count": 26,
   "metadata": {},
   "outputs": [],
   "source": [
    "print(\"constructing decision tree using gini index with max depth as 3\")\n",
    "my_tree_2 = build_tree(gini, df_train, 3, 0) "
   ]
  },
  {
   "cell_type": "code",
   "execution_count": 27,
   "metadata": {},
   "outputs": [
    {
     "name": "stdout",
     "output_type": "stream",
     "text": [
      "Is persons == 2?\n",
      "--> True:\n",
      "  Predict {'unacc': 335}\n",
      "--> False:\n",
      "  Is safety == low?\n",
      "  --> True:\n",
      "    Predict {'unacc': 221}\n",
      "  --> False:\n",
      "    Is maint == vhigh?\n",
      "    --> True:\n",
      "      Predict {'unacc': 72}\n",
      "    --> False:\n",
      "      Predict {'acc': 179}\n"
     ]
    }
   ],
   "source": [
    "#print_tree(my_tree_2)"
   ]
  },
  {
   "cell_type": "code",
   "execution_count": 28,
   "metadata": {},
   "outputs": [],
   "source": [
    "error2 = calc_error(my_tree_2) #error for gini index with depth 3"
   ]
  },
  {
   "cell_type": "code",
   "execution_count": 29,
   "metadata": {},
   "outputs": [
    {
     "name": "stdout",
     "output_type": "stream",
     "text": [
      "Is persons == 2?\n",
      "--> True:\n",
      "  Predict {'unacc': 335}\n",
      "--> False:\n",
      "  Is safety == low?\n",
      "  --> True:\n",
      "    Predict {'unacc': 221}\n",
      "  --> False:\n",
      "    Is maint == vhigh?\n",
      "    --> True:\n",
      "      Predict {'unacc': 72}\n",
      "    --> False:\n",
      "      Predict {'acc': 179}\n"
     ]
    }
   ],
   "source": [
    "print(\"constructing decision tree using entropy with max depth as 3\")\n",
    "my_tree_3 = build_tree(entropy, df_train, 3, 0) \n",
    "#print_tree(my_tree_3)"
   ]
  },
  {
   "cell_type": "code",
   "execution_count": 30,
   "metadata": {},
   "outputs": [],
   "source": [
    "error3 = calc_error(my_tree_3) #error for entropy with depth as 3"
   ]
  },
  {
   "cell_type": "code",
   "execution_count": 31,
   "metadata": {},
   "outputs": [
    {
     "name": "stdout",
     "output_type": "stream",
     "text": [
      "Is persons == 2?\n",
      "--> True:\n",
      "  Predict {'unacc': 335}\n",
      "--> False:\n",
      "  Is safety == low?\n",
      "  --> True:\n",
      "    Predict {'unacc': 221}\n",
      "  --> False:\n",
      "    Is maint == vhigh?\n",
      "    --> True:\n",
      "      Is buying == high?\n",
      "      --> True:\n",
      "        Predict {'unacc': 30}\n",
      "      --> False:\n",
      "        Is buying == vhigh?\n",
      "        --> True:\n",
      "          Predict {'unacc': 29}\n",
      "        --> False:\n",
      "          Is safety == med?\n",
      "          --> True:\n",
      "            Predict {'acc': 14}\n",
      "          --> False:\n",
      "            Predict {'acc': 29}\n",
      "    --> False:\n",
      "      Is buying == vhigh?\n",
      "      --> True:\n",
      "        Is maint == high?\n",
      "        --> True:\n",
      "          Predict {'unacc': 29}\n",
      "        --> False:\n",
      "          Is safety == high?\n",
      "          --> True:\n",
      "            Predict {'acc': 28}\n",
      "          --> False:\n",
      "            Predict {'acc': 13}\n",
      "      --> False:\n",
      "        Is buying == high?\n",
      "        --> True:\n",
      "          Is safety == med?\n",
      "          --> True:\n",
      "            Predict {'acc': 28}\n",
      "          --> False:\n",
      "            Predict {'acc': 36}\n",
      "        --> False:\n",
      "          Is safety == med?\n",
      "          --> True:\n",
      "            Predict {'acc': 54}\n",
      "          --> False:\n",
      "            Predict {'vgood': 35}\n"
     ]
    }
   ],
   "source": [
    "print(\"constructing decision tree using entropy with max depth as 6\")\n",
    "my_tree_4 = build_tree(entropy, df_train, 6, 0) \n",
    "#print_tree(my_tree_4)"
   ]
  },
  {
   "cell_type": "code",
   "execution_count": 32,
   "metadata": {},
   "outputs": [],
   "source": [
    "error4 = calc_error(my_tree_4) #error for entropy with depth as 6"
   ]
  },
  {
   "cell_type": "code",
   "execution_count": 33,
   "metadata": {},
   "outputs": [
    {
     "name": "stdout",
     "output_type": "stream",
     "text": [
      "Is maint == low?\n",
      "--> True:\n",
      "  Is buying == med?\n",
      "  --> True:\n",
      "    Is doors == 2?\n",
      "    --> True:\n",
      "      Predict {'unacc': 8}\n",
      "    --> False:\n",
      "      Predict {'unacc': 31}\n",
      "  --> False:\n",
      "    Is persons == 4?\n",
      "    --> True:\n",
      "      Predict {'unacc': 27}\n",
      "    --> False:\n",
      "      Predict {'unacc': 93}\n",
      "--> False:\n",
      "  Is lug_boot == big?\n",
      "  --> True:\n",
      "    Predict {'unacc': 171}\n",
      "  --> False:\n",
      "    Is doors == 5more?\n",
      "    --> True:\n",
      "      Predict {'unacc': 79}\n",
      "    --> False:\n",
      "      Predict {'unacc': 289}\n"
     ]
    }
   ],
   "source": [
    "print(\"Constructing decision tree using Majority Error with max depth as 3\")\n",
    "my_tree_5 = build_tree(ME, df_train, 3, 0) \n",
    "#print_tree(my_tree_5)"
   ]
  },
  {
   "cell_type": "code",
   "execution_count": 34,
   "metadata": {},
   "outputs": [],
   "source": [
    "error5 = calc_error(my_tree_5) #error ME with max depth as 3"
   ]
  },
  {
   "cell_type": "code",
   "execution_count": 35,
   "metadata": {},
   "outputs": [
    {
     "name": "stdout",
     "output_type": "stream",
     "text": [
      "Is maint == low?\n",
      "--> True:\n",
      "  Is buying == med?\n",
      "  --> True:\n",
      "    Is doors == 2?\n",
      "    --> True:\n",
      "      Predict {'unacc': 8}\n",
      "    --> False:\n",
      "      Predict {'unacc': 31}\n",
      "  --> False:\n",
      "    Is persons == 4?\n",
      "    --> True:\n",
      "      Predict {'unacc': 27}\n",
      "    --> False:\n",
      "      Is doors == 5more?\n",
      "      --> True:\n",
      "        Predict {'unacc': 23}\n",
      "      --> False:\n",
      "        Predict {'unacc': 70}\n",
      "--> False:\n",
      "  Is lug_boot == big?\n",
      "  --> True:\n",
      "    Predict {'unacc': 171}\n",
      "  --> False:\n",
      "    Is doors == 5more?\n",
      "    --> True:\n",
      "      Predict {'unacc': 79}\n",
      "    --> False:\n",
      "      Predict {'unacc': 289}\n"
     ]
    }
   ],
   "source": [
    "print(\"constructing decision tree using Majority Error with max depth as 6\")\n",
    "my_tree_6 = build_tree(ME, df_train, 6, 0) \n",
    "#print_tree(my_tree_6)"
   ]
  },
  {
   "cell_type": "code",
   "execution_count": 36,
   "metadata": {},
   "outputs": [],
   "source": [
    "error6 = calc_error(my_tree_6) #error ME with max depth as 6"
   ]
  },
  {
   "cell_type": "code",
   "execution_count": 38,
   "metadata": {},
   "outputs": [],
   "source": [
    "#train data prediction and error calculation\n",
    "def train_calc_error(pred_tree):\n",
    "    cnt = 0\n",
    "    for i in range(len(df_train)):\n",
    "        actual = df_train.iloc[i,6] #label value\n",
    "        predicted = list(classify(df_train.iloc[i,:], pred_tree)) #predicted label value\n",
    "        if actual != predicted[0]:\n",
    "            cnt = cnt+1\n",
    "    error = (cnt/len(df_train))*100\n",
    "    return error\n",
    "    "
   ]
  },
  {
   "cell_type": "code",
   "execution_count": 39,
   "metadata": {},
   "outputs": [],
   "source": [
    "error7 = train_calc_error(my_tree_1) #train error for gini index with depth 6\n",
    "error8 = train_calc_error(my_tree_2) #train error for gini index with depth 3\n",
    "error9 = train_calc_error(my_tree_3) #train error for entropy with depth 3\n",
    "error10 = train_calc_error(my_tree_4) #train error for entropy with depth 6\n",
    "error11 = train_calc_error(my_tree_5) #train error for ME with depth 3\n",
    "error12 = train_calc_error(my_tree_6) #train error for ME with depth 6"
   ]
  },
  {
   "cell_type": "code",
   "execution_count": 40,
   "metadata": {},
   "outputs": [
    {
     "name": "stdout",
     "output_type": "stream",
     "text": [
      "Train data error\n",
      "\t\tdepth-3\t\t\t\t depth-6\n",
      "gini index\t 19.3 \t\t 10.100000000000001\n",
      "entropy\t\t 19.3 \t\t 11.899999999999999\n",
      "ME\t\t 30.2 \t\t 30.2\n"
     ]
    }
   ],
   "source": [
    "print(\"Train data error\")\n",
    "print(\"\\t\\tdepth-3\\t\\t\\t\\t depth-6\")\n",
    "print(\"gini index\\t\", error8, \"\\t\\t\", error7)\n",
    "print(\"entropy\\t\\t\", error9, \"\\t\\t\", error10)\n",
    "print(\"ME\\t\\t\", error11, \"\\t\\t\", error12)"
   ]
  },
  {
   "cell_type": "code",
   "execution_count": 37,
   "metadata": {},
   "outputs": [
    {
     "name": "stdout",
     "output_type": "stream",
     "text": [
      "Test data error\n",
      "\t\tdepth-3\t\t\t\t depth-6\n",
      "gini index\t 19.642857142857142 \t\t 11.538461538461538\n",
      "entropy\t\t 19.642857142857142 \t\t 13.598901098901099\n",
      "ME\t\t 29.67032967032967 \t\t 29.67032967032967\n"
     ]
    }
   ],
   "source": [
    "print(\"Test data error\")\n",
    "print(\"\\t\\tdepth-3\\t\\t\\t\\t depth-6\")\n",
    "print(\"gini index\\t\", error2, \"\\t\\t\", error1)\n",
    "print(\"entropy\\t\\t\", error3, \"\\t\\t\", error4)\n",
    "print(\"ME\\t\\t\", error5, \"\\t\\t\", error6)"
   ]
  }
 ],
 "metadata": {
  "kernelspec": {
   "display_name": "Python 3",
   "language": "python",
   "name": "python3"
  },
  "language_info": {
   "codemirror_mode": {
    "name": "ipython",
    "version": 3
   },
   "file_extension": ".py",
   "mimetype": "text/x-python",
   "name": "python",
   "nbconvert_exporter": "python",
   "pygments_lexer": "ipython3",
   "version": "3.8.3"
  }
 },
 "nbformat": 4,
 "nbformat_minor": 4
}
